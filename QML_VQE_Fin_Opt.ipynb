{
 "cells": [
  {
   "cell_type": "code",
   "execution_count": 1,
   "id": "2fef33f0",
   "metadata": {},
   "outputs": [],
   "source": [
    "import numpy as np\n",
    "import matplotlib.pyplot as plt\n",
    "import datetime\n",
    "import pandas as pd\n",
    "from nsepy import get_history\n",
    "from docplex.mp.model import Model\n",
    "from qiskit.algorithms import NumPyMinimumEigensolver\n",
    "from qiskit_optimization.algorithms import MinimumEigenOptimizer\n",
    "from qiskit.optimization import QuadraticProgram\n",
    "from qiskit_finance.data_providers import RandomDataProvider\n",
    "from qiskit.optimization.converters import LinearEqualityToPenalty\n",
    "import pennylane as qml\n",
    "from qiskit.optimization.applications.ising.common import sample_most_likely"
   ]
  },
  {
   "cell_type": "code",
   "execution_count": 2,
   "id": "e87fd7ed",
   "metadata": {},
   "outputs": [],
   "source": [
    "num_assets = 3\n",
    "# Generate expected return and covariance matrix from (random) time-series\n",
    "stocks = [(\"TICKER%s\" % i) for i in range(num_assets)]\n",
    "data = RandomDataProvider(tickers=stocks,\n",
    "                 start=datetime.datetime(2016,1,1),\n",
    "                 end=datetime.datetime(2016,1,30))\n",
    "data.run()"
   ]
  },
  {
   "cell_type": "code",
   "execution_count": 3,
   "id": "76f98751",
   "metadata": {},
   "outputs": [
    {
     "data": {
      "text/plain": [
       "'IIZ\\t(1.4890162084841014+0j)\\nIZI\\t(1.4990044628210766+0j)\\nZII\\t(1.5010844950763147+0j)\\nIZZ\\t(1.4999517804084235+0j)\\nZIZ\\t(1.4998832592835347+0j)\\nZZI\\t(1.4999977567411256+0j)\\n'"
      ]
     },
     "execution_count": 3,
     "metadata": {},
     "output_type": "execute_result"
    }
   ],
   "source": [
    "#Calculate mean returns\n",
    "mu = data.get_period_return_mean_vector() \n",
    " \n",
    "#Calculate mean covariance\n",
    "sigma = data.get_period_return_covariance_matrix()\n",
    "q = 0.5                   # set risk factor\n",
    "budget = 2          # set budget (B)\n",
    "penalty = num_assets      # set parameter to scale the budget penalty term\n",
    "mdl = Model('docplex model')\n",
    "x = mdl.binary_var_list(num_assets)\n",
    "# set objective function: \n",
    "#\n",
    "#     maximize { mu^T * x - q * x^T * sigma * x }\n",
    "#\n",
    "objective = mdl.sum([mu[i] * x[i] for i in range(num_assets)])  \n",
    "# mu^T * x\n",
    "objective -= q * mdl.sum([sigma[i][j]*x[i]*x[j] for i in range(num_assets) for j in range(num_assets)])\n",
    "mdl.maximize(objective)\n",
    "# add budget constraint: \n",
    "#\n",
    "#     1^T * x == budget\n",
    "#\n",
    "cost = mdl.sum([x[i] for i in range(num_assets)])\n",
    "mdl.add_constraint(cost == budget, ctname='budget')\n",
    "# converting to Quadratic Program\n",
    "mod = QuadraticProgram()        \n",
    "mod.from_docplex(mdl)\n",
    "#removing the constraint to create the QUBO\n",
    "lineq2penalty = LinearEqualityToPenalty(penalty) \n",
    "qubo = lineq2penalty.convert(mod)\n",
    "#converting QUBO to an Ising Hamiltonian\n",
    "H, offset = qubo.to_ising()\n",
    "H = H.to_legacy_op()  #coverting it to a legacy operator\n",
    "H.print_details()"
   ]
  },
  {
   "cell_type": "code",
   "execution_count": 4,
   "id": "391c1f49",
   "metadata": {},
   "outputs": [
    {
     "name": "stdout",
     "output_type": "stream",
     "text": [
      "{'IIZ': 1.4890162084841014, 'IZI': 1.4990044628210766, 'ZII': 1.5010844950763147, 'IZZ': 1.4999517804084235, 'ZIZ': 1.4998832592835347, 'ZZI': 1.4999977567411256}\n"
     ]
    }
   ],
   "source": [
    "def pauli_operator_to_dict(pauli_operator):\n",
    "    \n",
    "    d = pauli_operator.to_dict()\n",
    "    paulis = d['paulis']\n",
    "    paulis_dict = {}\n",
    "    for x in paulis:\n",
    "        label = x['label']\n",
    "        coeff = x['coeff']['real']\n",
    "        paulis_dict[label] = coeff\n",
    "    return paulis_dict\n",
    "pauli_dict = pauli_operator_to_dict(H)\n",
    "print(pauli_dict)"
   ]
  },
  {
   "cell_type": "code",
   "execution_count": 5,
   "id": "5954e227",
   "metadata": {},
   "outputs": [],
   "source": [
    "def ansatz(theta):\n",
    "    \n",
    "    qml.RX(theta[0], wires=0)\n",
    "    qml.RX(theta[1], wires=1)\n",
    "    qml.RX(theta[2], wires=2)\n",
    "    qml.CNOT(wires=[0,1])\n",
    "    qml.CNOT(wires=[0,2])\n",
    "    qml.CNOT(wires=[1,2])\n",
    "    qml.RX(theta[3], wires=0)\n",
    "    qml.RX(theta[4], wires=1)\n",
    "    qml.RX(theta[5], wires=2)\n",
    "    qml.CNOT(wires=[0,1])\n",
    "    qml.CNOT(wires=[0,2])\n",
    "    qml.CNOT(wires=[1,2])\n",
    "    qml.RX(theta[6], wires=0)\n",
    "    qml.RX(theta[7], wires=1)\n",
    "    qml.RX(theta[8], wires=2)\n",
    "    \n",
    "    return ansatz"
   ]
  },
  {
   "cell_type": "code",
   "execution_count": 6,
   "id": "cf2e3b49",
   "metadata": {},
   "outputs": [],
   "source": [
    "#qml.qnode(dev1)\n",
    "def circuit_IIZ(params):\n",
    "    ansatz(params)\n",
    "    return qml.expval(qml.Identity(0)@qml.Identity(1)@qml.PauliZ(2))\n",
    "#qml.qnode(dev1)\n",
    "def circuit_IIZ(params):\n",
    "    ansatz(params)\n",
    "    return qml.expval(qml.Identity(0)@qml.Identity(1)@qml.PauliZ(2))\n",
    "#qml.qnode(dev1)\n",
    "def circuit_IZI(params):\n",
    "    ansatz(params)\n",
    "    return qml.expval(qml.Identity(0)@qml.PauliZ(1)@qml.Identity(2))\n",
    "#qml.qnode(dev1)\n",
    "def circuit_ZII(params):\n",
    "    ansatz(params)\n",
    "    return qml.expval(qml.PauliZ(0)@qml.Identity(1)@qml.Identity(2))\n",
    "#qml.qnode(dev1)\n",
    "def circuit_IZZ(params):\n",
    "    ansatz(params)\n",
    "    return qml.expval(qml.Identity(0)@qml.PauliZ(1)@qml.PauliZ(2))\n",
    "#qml.qnode(dev1)\n",
    "def circuit_ZIZ(params):\n",
    "    ansatz(params)\n",
    "    return qml.expval(qml.PauliZ(0)@qml.Identity(1)@qml.PauliZ(2))\n",
    "#qml.qnode(dev1)\n",
    "def circuit_ZZI(params):\n",
    "    ansatz(params)\n",
    "    return qml.expval(qml.PauliZ(0)@qml.PauliZ(1)@qml.Identity(2))\n",
    "#qml.qnode(dev1)\n",
    "def circuit_IZI(params):\n",
    "    ansatz(params)\n",
    "    return qml.expval(qml.Identity(0)@qml.PauliZ(1)@qml.Identity(2))\n",
    "#qml.qnode(dev1)\n",
    "def circuit_ZII(params):\n",
    "    ansatz(params)\n",
    "    return qml.expval(qml.PauliZ(0)@qml.Identity(1)@qml.Identity(2))\n",
    "#qml.qnode(dev1)\n",
    "def circuit_IZZ(params):\n",
    "    ansatz(params)\n",
    "    return qml.expval(qml.Identity(0)@qml.PauliZ(1)@qml.PauliZ(2))\n",
    "#qml.qnode(dev1)\n",
    "def circuit_ZIZ(params):\n",
    "    ansatz(params)\n",
    "    return qml.expval(qml.PauliZ(0)@qml.Identity(1)@qml.PauliZ(2))\n",
    "#qml.qnode(dev1)\n",
    "def circuit_ZZI(params):\n",
    "    ansatz(params)\n",
    "    return qml.expval(qml.PauliZ(0)@qml.PauliZ(1)@qml.Identity(2))"
   ]
  },
  {
   "cell_type": "code",
   "execution_count": 7,
   "id": "d8fdd3d1",
   "metadata": {},
   "outputs": [],
   "source": [
    "def vqe(parameters):\n",
    "    \n",
    "    expval_ZII = pauli_dict['ZII'] * circuit_ZII(parameters)  \n",
    "    expval_IIZ = pauli_dict['IIZ'] * circuit_IIZ(parameters)\n",
    "    expval_IZI = pauli_dict['IZI'] * circuit_IZI(parameters)\n",
    "    expval_ZZI = pauli_dict['ZZI'] * circuit_ZZI(parameters)\n",
    "    expval_ZIZ = pauli_dict['ZIZ'] * circuit_ZIZ(parameters)\n",
    "    expval_IZZ = pauli_dict['IZZ'] * circuit_IZZ(parameters)\n",
    "    \n",
    "    # summing the measurement results\n",
    "    total_expval= expval_ZII + expval_IIZ + expval_ZIZ +  expval_ZZI + expval_ZIZ + expval_IZZ\n",
    "    \n",
    "    return total_expval"
   ]
  },
  {
   "cell_type": "code",
   "execution_count": 8,
   "id": "d8292237",
   "metadata": {},
   "outputs": [
    {
     "name": "stderr",
     "output_type": "stream",
     "text": [
      "/Users/vaidehi/opt/anaconda3/lib/python3.9/site-packages/pennylane/_grad.py:105: UserWarning: Attempted to differentiate a function with no trainable parameters. If this is unintended, please add trainable parameters via the 'requires_grad' attribute or 'argnum' keyword.\n",
      "  warnings.warn(\n"
     ]
    },
    {
     "ename": "TypeError",
     "evalue": "unsupported operand type(s) for *: 'float' and 'MeasurementProcess'",
     "output_type": "error",
     "traceback": [
      "\u001b[0;31m---------------------------------------------------------------------------\u001b[0m",
      "\u001b[0;31mTypeError\u001b[0m                                 Traceback (most recent call last)",
      "\u001b[0;32m/var/folders/7w/zcgrmt251lv983y14r0jcl0h0000gp/T/ipykernel_10164/3014687389.py\u001b[0m in \u001b[0;36m<module>\u001b[0;34m\u001b[0m\n\u001b[1;32m      5\u001b[0m \u001b[0msteps\u001b[0m \u001b[0;34m=\u001b[0m \u001b[0;36m500\u001b[0m\u001b[0;34m\u001b[0m\u001b[0;34m\u001b[0m\u001b[0m\n\u001b[1;32m      6\u001b[0m \u001b[0;32mfor\u001b[0m \u001b[0mi\u001b[0m \u001b[0;32min\u001b[0m \u001b[0mrange\u001b[0m\u001b[0;34m(\u001b[0m\u001b[0msteps\u001b[0m\u001b[0;34m)\u001b[0m\u001b[0;34m:\u001b[0m\u001b[0;34m\u001b[0m\u001b[0;34m\u001b[0m\u001b[0m\n\u001b[0;32m----> 7\u001b[0;31m     \u001b[0mparams\u001b[0m \u001b[0;34m=\u001b[0m \u001b[0mopt\u001b[0m\u001b[0;34m.\u001b[0m\u001b[0mstep\u001b[0m\u001b[0;34m(\u001b[0m\u001b[0mvqe\u001b[0m\u001b[0;34m,\u001b[0m \u001b[0mparams\u001b[0m\u001b[0;34m)\u001b[0m\u001b[0;34m\u001b[0m\u001b[0;34m\u001b[0m\u001b[0m\n\u001b[0m\u001b[1;32m      8\u001b[0m     \u001b[0mvalue\u001b[0m\u001b[0;34m.\u001b[0m\u001b[0mappend\u001b[0m\u001b[0;34m(\u001b[0m\u001b[0mvqe\u001b[0m\u001b[0;34m(\u001b[0m\u001b[0mparams\u001b[0m\u001b[0;34m)\u001b[0m\u001b[0;34m)\u001b[0m\u001b[0;34m\u001b[0m\u001b[0;34m\u001b[0m\u001b[0m\n\u001b[1;32m      9\u001b[0m \u001b[0mplt\u001b[0m\u001b[0;34m.\u001b[0m\u001b[0mplot\u001b[0m\u001b[0;34m(\u001b[0m\u001b[0mvalue\u001b[0m\u001b[0;34m)\u001b[0m\u001b[0;34m\u001b[0m\u001b[0;34m\u001b[0m\u001b[0m\n",
      "\u001b[0;32m~/opt/anaconda3/lib/python3.9/site-packages/pennylane/optimize/gradient_descent.py\u001b[0m in \u001b[0;36mstep\u001b[0;34m(self, objective_fn, grad_fn, *args, **kwargs)\u001b[0m\n\u001b[1;32m    127\u001b[0m         \"\"\"\n\u001b[1;32m    128\u001b[0m \u001b[0;34m\u001b[0m\u001b[0m\n\u001b[0;32m--> 129\u001b[0;31m         \u001b[0mg\u001b[0m\u001b[0;34m,\u001b[0m \u001b[0m_\u001b[0m \u001b[0;34m=\u001b[0m \u001b[0mself\u001b[0m\u001b[0;34m.\u001b[0m\u001b[0mcompute_grad\u001b[0m\u001b[0;34m(\u001b[0m\u001b[0mobjective_fn\u001b[0m\u001b[0;34m,\u001b[0m \u001b[0margs\u001b[0m\u001b[0;34m,\u001b[0m \u001b[0mkwargs\u001b[0m\u001b[0;34m,\u001b[0m \u001b[0mgrad_fn\u001b[0m\u001b[0;34m=\u001b[0m\u001b[0mgrad_fn\u001b[0m\u001b[0;34m)\u001b[0m\u001b[0;34m\u001b[0m\u001b[0;34m\u001b[0m\u001b[0m\n\u001b[0m\u001b[1;32m    130\u001b[0m         \u001b[0mnew_args\u001b[0m \u001b[0;34m=\u001b[0m \u001b[0mself\u001b[0m\u001b[0;34m.\u001b[0m\u001b[0mapply_grad\u001b[0m\u001b[0;34m(\u001b[0m\u001b[0mg\u001b[0m\u001b[0;34m,\u001b[0m \u001b[0margs\u001b[0m\u001b[0;34m)\u001b[0m\u001b[0;34m\u001b[0m\u001b[0;34m\u001b[0m\u001b[0m\n\u001b[1;32m    131\u001b[0m \u001b[0;34m\u001b[0m\u001b[0m\n",
      "\u001b[0;32m~/opt/anaconda3/lib/python3.9/site-packages/pennylane/optimize/gradient_descent.py\u001b[0m in \u001b[0;36mcompute_grad\u001b[0;34m(objective_fn, args, kwargs, grad_fn)\u001b[0m\n\u001b[1;32m    156\u001b[0m         \"\"\"\n\u001b[1;32m    157\u001b[0m         \u001b[0mg\u001b[0m \u001b[0;34m=\u001b[0m \u001b[0mget_gradient\u001b[0m\u001b[0;34m(\u001b[0m\u001b[0mobjective_fn\u001b[0m\u001b[0;34m)\u001b[0m \u001b[0;32mif\u001b[0m \u001b[0mgrad_fn\u001b[0m \u001b[0;32mis\u001b[0m \u001b[0;32mNone\u001b[0m \u001b[0;32melse\u001b[0m \u001b[0mgrad_fn\u001b[0m\u001b[0;34m\u001b[0m\u001b[0;34m\u001b[0m\u001b[0m\n\u001b[0;32m--> 158\u001b[0;31m         \u001b[0mgrad\u001b[0m \u001b[0;34m=\u001b[0m \u001b[0mg\u001b[0m\u001b[0;34m(\u001b[0m\u001b[0;34m*\u001b[0m\u001b[0margs\u001b[0m\u001b[0;34m,\u001b[0m \u001b[0;34m**\u001b[0m\u001b[0mkwargs\u001b[0m\u001b[0;34m)\u001b[0m\u001b[0;34m\u001b[0m\u001b[0;34m\u001b[0m\u001b[0m\n\u001b[0m\u001b[1;32m    159\u001b[0m         \u001b[0mforward\u001b[0m \u001b[0;34m=\u001b[0m \u001b[0mgetattr\u001b[0m\u001b[0;34m(\u001b[0m\u001b[0mg\u001b[0m\u001b[0;34m,\u001b[0m \u001b[0;34m\"forward\"\u001b[0m\u001b[0;34m,\u001b[0m \u001b[0;32mNone\u001b[0m\u001b[0;34m)\u001b[0m\u001b[0;34m\u001b[0m\u001b[0;34m\u001b[0m\u001b[0m\n\u001b[1;32m    160\u001b[0m \u001b[0;34m\u001b[0m\u001b[0m\n",
      "\u001b[0;32m~/opt/anaconda3/lib/python3.9/site-packages/pennylane/_grad.py\u001b[0m in \u001b[0;36m__call__\u001b[0;34m(self, *args, **kwargs)\u001b[0m\n\u001b[1;32m    108\u001b[0m                 \u001b[0;34m\"'requires_grad' attribute or 'argnum' keyword.\"\u001b[0m\u001b[0;34m\u001b[0m\u001b[0;34m\u001b[0m\u001b[0m\n\u001b[1;32m    109\u001b[0m             )\n\u001b[0;32m--> 110\u001b[0;31m             \u001b[0mself\u001b[0m\u001b[0;34m.\u001b[0m\u001b[0m_forward\u001b[0m \u001b[0;34m=\u001b[0m \u001b[0mself\u001b[0m\u001b[0;34m.\u001b[0m\u001b[0m_fun\u001b[0m\u001b[0;34m(\u001b[0m\u001b[0;34m*\u001b[0m\u001b[0margs\u001b[0m\u001b[0;34m,\u001b[0m \u001b[0;34m**\u001b[0m\u001b[0mkwargs\u001b[0m\u001b[0;34m)\u001b[0m\u001b[0;34m\u001b[0m\u001b[0;34m\u001b[0m\u001b[0m\n\u001b[0m\u001b[1;32m    111\u001b[0m             \u001b[0;32mreturn\u001b[0m \u001b[0;34m(\u001b[0m\u001b[0;34m)\u001b[0m\u001b[0;34m\u001b[0m\u001b[0;34m\u001b[0m\u001b[0m\n\u001b[1;32m    112\u001b[0m \u001b[0;34m\u001b[0m\u001b[0m\n",
      "\u001b[0;32m/var/folders/7w/zcgrmt251lv983y14r0jcl0h0000gp/T/ipykernel_10164/2656863093.py\u001b[0m in \u001b[0;36mvqe\u001b[0;34m(parameters)\u001b[0m\n\u001b[1;32m      1\u001b[0m \u001b[0;32mdef\u001b[0m \u001b[0mvqe\u001b[0m\u001b[0;34m(\u001b[0m\u001b[0mparameters\u001b[0m\u001b[0;34m)\u001b[0m\u001b[0;34m:\u001b[0m\u001b[0;34m\u001b[0m\u001b[0;34m\u001b[0m\u001b[0m\n\u001b[1;32m      2\u001b[0m \u001b[0;34m\u001b[0m\u001b[0m\n\u001b[0;32m----> 3\u001b[0;31m     \u001b[0mexpval_ZII\u001b[0m \u001b[0;34m=\u001b[0m \u001b[0mpauli_dict\u001b[0m\u001b[0;34m[\u001b[0m\u001b[0;34m'ZII'\u001b[0m\u001b[0;34m]\u001b[0m \u001b[0;34m*\u001b[0m \u001b[0mcircuit_ZII\u001b[0m\u001b[0;34m(\u001b[0m\u001b[0mparameters\u001b[0m\u001b[0;34m)\u001b[0m\u001b[0;34m\u001b[0m\u001b[0;34m\u001b[0m\u001b[0m\n\u001b[0m\u001b[1;32m      4\u001b[0m     \u001b[0mexpval_IIZ\u001b[0m \u001b[0;34m=\u001b[0m \u001b[0mpauli_dict\u001b[0m\u001b[0;34m[\u001b[0m\u001b[0;34m'IIZ'\u001b[0m\u001b[0;34m]\u001b[0m \u001b[0;34m*\u001b[0m \u001b[0mcircuit_IIZ\u001b[0m\u001b[0;34m(\u001b[0m\u001b[0mparameters\u001b[0m\u001b[0;34m)\u001b[0m\u001b[0;34m\u001b[0m\u001b[0;34m\u001b[0m\u001b[0m\n\u001b[1;32m      5\u001b[0m     \u001b[0mexpval_IZI\u001b[0m \u001b[0;34m=\u001b[0m \u001b[0mpauli_dict\u001b[0m\u001b[0;34m[\u001b[0m\u001b[0;34m'IZI'\u001b[0m\u001b[0;34m]\u001b[0m \u001b[0;34m*\u001b[0m \u001b[0mcircuit_IZI\u001b[0m\u001b[0;34m(\u001b[0m\u001b[0mparameters\u001b[0m\u001b[0;34m)\u001b[0m\u001b[0;34m\u001b[0m\u001b[0;34m\u001b[0m\u001b[0m\n",
      "\u001b[0;31mTypeError\u001b[0m: unsupported operand type(s) for *: 'float' and 'MeasurementProcess'"
     ]
    }
   ],
   "source": [
    "opt = qml.GradientDescentOptimizer(stepsize=0.5)\n",
    "value = []\n",
    "    # optimize parameters in objective\n",
    "params = np.random.rand(9)\n",
    "steps = 500\n",
    "for i in range(steps):\n",
    "    params = opt.step(vqe, params)\n",
    "    value.append(vqe(params))\n",
    "plt.plot(value)"
   ]
  },
  {
   "cell_type": "code",
   "execution_count": 9,
   "id": "a018e8f8",
   "metadata": {},
   "outputs": [
    {
     "ename": "SyntaxError",
     "evalue": "'return' outside function (2175665475.py, line 4)",
     "output_type": "error",
     "traceback": [
      "\u001b[0;36m  File \u001b[0;32m\"/var/folders/7w/zcgrmt251lv983y14r0jcl0h0000gp/T/ipykernel_10164/2175665475.py\"\u001b[0;36m, line \u001b[0;32m4\u001b[0m\n\u001b[0;31m    return qml.probs(wires=[0,1,2])\u001b[0m\n\u001b[0m    ^\u001b[0m\n\u001b[0;31mSyntaxError\u001b[0m\u001b[0;31m:\u001b[0m 'return' outside function\n"
     ]
    }
   ],
   "source": [
    "#qml.qnode(dev1)\n",
    "def final_circ(params):\n",
    "    ansatz(params)\n",
    "return qml.probs(wires=[0,1,2])"
   ]
  },
  {
   "cell_type": "code",
   "execution_count": 10,
   "id": "2476ddc6",
   "metadata": {},
   "outputs": [
    {
     "ename": "IndexError",
     "evalue": "invalid index to scalar variable.",
     "output_type": "error",
     "traceback": [
      "\u001b[0;31m---------------------------------------------------------------------------\u001b[0m",
      "\u001b[0;31mIndexError\u001b[0m                                Traceback (most recent call last)",
      "\u001b[0;32m/var/folders/7w/zcgrmt251lv983y14r0jcl0h0000gp/T/ipykernel_10164/4227277388.py\u001b[0m in \u001b[0;36m<module>\u001b[0;34m\u001b[0m\n\u001b[0;32m----> 1\u001b[0;31m \u001b[0mplt\u001b[0m\u001b[0;34m.\u001b[0m\u001b[0mbar\u001b[0m\u001b[0;34m(\u001b[0m\u001b[0;34m[\u001b[0m\u001b[0;34m'000'\u001b[0m\u001b[0;34m,\u001b[0m \u001b[0;34m'001'\u001b[0m\u001b[0;34m,\u001b[0m \u001b[0;34m'010'\u001b[0m\u001b[0;34m,\u001b[0m \u001b[0;34m'011'\u001b[0m\u001b[0;34m,\u001b[0m \u001b[0;34m'100'\u001b[0m\u001b[0;34m,\u001b[0m \u001b[0;34m'101'\u001b[0m\u001b[0;34m,\u001b[0m \u001b[0;34m'110'\u001b[0m\u001b[0;34m,\u001b[0m \u001b[0;34m'111'\u001b[0m\u001b[0;34m]\u001b[0m\u001b[0;34m,\u001b[0m \u001b[0mfinal_circ\u001b[0m\u001b[0;34m(\u001b[0m\u001b[0mparams\u001b[0m\u001b[0;34m[\u001b[0m\u001b[0;36m0\u001b[0m\u001b[0;34m]\u001b[0m\u001b[0;34m)\u001b[0m\u001b[0;34m)\u001b[0m\u001b[0;34m\u001b[0m\u001b[0;34m\u001b[0m\u001b[0m\n\u001b[0m",
      "\u001b[0;32m/var/folders/7w/zcgrmt251lv983y14r0jcl0h0000gp/T/ipykernel_10164/2175665475.py\u001b[0m in \u001b[0;36mfinal_circ\u001b[0;34m(params)\u001b[0m\n\u001b[1;32m      1\u001b[0m \u001b[0;31m#qml.qnode(dev1)\u001b[0m\u001b[0;34m\u001b[0m\u001b[0;34m\u001b[0m\u001b[0m\n\u001b[1;32m      2\u001b[0m \u001b[0;32mdef\u001b[0m \u001b[0mfinal_circ\u001b[0m\u001b[0;34m(\u001b[0m\u001b[0mparams\u001b[0m\u001b[0;34m)\u001b[0m\u001b[0;34m:\u001b[0m\u001b[0;34m\u001b[0m\u001b[0;34m\u001b[0m\u001b[0m\n\u001b[0;32m----> 3\u001b[0;31m     \u001b[0mansatz\u001b[0m\u001b[0;34m(\u001b[0m\u001b[0mparams\u001b[0m\u001b[0;34m)\u001b[0m\u001b[0;34m\u001b[0m\u001b[0;34m\u001b[0m\u001b[0m\n\u001b[0m\u001b[1;32m      4\u001b[0m \u001b[0;32mreturn\u001b[0m \u001b[0mqml\u001b[0m\u001b[0;34m.\u001b[0m\u001b[0mprobs\u001b[0m\u001b[0;34m(\u001b[0m\u001b[0mwires\u001b[0m\u001b[0;34m=\u001b[0m\u001b[0;34m[\u001b[0m\u001b[0;36m0\u001b[0m\u001b[0;34m,\u001b[0m\u001b[0;36m1\u001b[0m\u001b[0;34m,\u001b[0m\u001b[0;36m2\u001b[0m\u001b[0;34m]\u001b[0m\u001b[0;34m)\u001b[0m\u001b[0;34m\u001b[0m\u001b[0;34m\u001b[0m\u001b[0m\n",
      "\u001b[0;32m/var/folders/7w/zcgrmt251lv983y14r0jcl0h0000gp/T/ipykernel_10164/4018936287.py\u001b[0m in \u001b[0;36mansatz\u001b[0;34m(theta)\u001b[0m\n\u001b[1;32m      1\u001b[0m \u001b[0;32mdef\u001b[0m \u001b[0mansatz\u001b[0m\u001b[0;34m(\u001b[0m\u001b[0mtheta\u001b[0m\u001b[0;34m)\u001b[0m\u001b[0;34m:\u001b[0m\u001b[0;34m\u001b[0m\u001b[0;34m\u001b[0m\u001b[0m\n\u001b[1;32m      2\u001b[0m \u001b[0;34m\u001b[0m\u001b[0m\n\u001b[0;32m----> 3\u001b[0;31m     \u001b[0mqml\u001b[0m\u001b[0;34m.\u001b[0m\u001b[0mRX\u001b[0m\u001b[0;34m(\u001b[0m\u001b[0mtheta\u001b[0m\u001b[0;34m[\u001b[0m\u001b[0;36m0\u001b[0m\u001b[0;34m]\u001b[0m\u001b[0;34m,\u001b[0m \u001b[0mwires\u001b[0m\u001b[0;34m=\u001b[0m\u001b[0;36m0\u001b[0m\u001b[0;34m)\u001b[0m\u001b[0;34m\u001b[0m\u001b[0;34m\u001b[0m\u001b[0m\n\u001b[0m\u001b[1;32m      4\u001b[0m     \u001b[0mqml\u001b[0m\u001b[0;34m.\u001b[0m\u001b[0mRX\u001b[0m\u001b[0;34m(\u001b[0m\u001b[0mtheta\u001b[0m\u001b[0;34m[\u001b[0m\u001b[0;36m1\u001b[0m\u001b[0;34m]\u001b[0m\u001b[0;34m,\u001b[0m \u001b[0mwires\u001b[0m\u001b[0;34m=\u001b[0m\u001b[0;36m1\u001b[0m\u001b[0;34m)\u001b[0m\u001b[0;34m\u001b[0m\u001b[0;34m\u001b[0m\u001b[0m\n\u001b[1;32m      5\u001b[0m     \u001b[0mqml\u001b[0m\u001b[0;34m.\u001b[0m\u001b[0mRX\u001b[0m\u001b[0;34m(\u001b[0m\u001b[0mtheta\u001b[0m\u001b[0;34m[\u001b[0m\u001b[0;36m2\u001b[0m\u001b[0;34m]\u001b[0m\u001b[0;34m,\u001b[0m \u001b[0mwires\u001b[0m\u001b[0;34m=\u001b[0m\u001b[0;36m2\u001b[0m\u001b[0;34m)\u001b[0m\u001b[0;34m\u001b[0m\u001b[0;34m\u001b[0m\u001b[0m\n",
      "\u001b[0;31mIndexError\u001b[0m: invalid index to scalar variable."
     ]
    }
   ],
   "source": [
    "plt.bar(['000', '001', '010', '011', '100', '101', '110', '111'], final_circ(params[0]))"
   ]
  },
  {
   "cell_type": "code",
   "execution_count": 11,
   "id": "da21301a",
   "metadata": {},
   "outputs": [
    {
     "ename": "AttributeError",
     "evalue": "'NumPyMinimumEigensolver' object has no attribute 'run'",
     "output_type": "error",
     "traceback": [
      "\u001b[0;31m---------------------------------------------------------------------------\u001b[0m",
      "\u001b[0;31mAttributeError\u001b[0m                            Traceback (most recent call last)",
      "\u001b[0;32m/var/folders/7w/zcgrmt251lv983y14r0jcl0h0000gp/T/ipykernel_10164/695543231.py\u001b[0m in \u001b[0;36m<module>\u001b[0;34m\u001b[0m\n\u001b[1;32m      1\u001b[0m \u001b[0mexact_eigensolver\u001b[0m \u001b[0;34m=\u001b[0m \u001b[0mNumPyMinimumEigensolver\u001b[0m\u001b[0;34m(\u001b[0m\u001b[0mH\u001b[0m\u001b[0;34m)\u001b[0m\u001b[0;34m\u001b[0m\u001b[0;34m\u001b[0m\u001b[0m\n\u001b[0;32m----> 2\u001b[0;31m \u001b[0mresult\u001b[0m \u001b[0;34m=\u001b[0m \u001b[0mexact_eigensolver\u001b[0m\u001b[0;34m.\u001b[0m\u001b[0mrun\u001b[0m\u001b[0;34m(\u001b[0m\u001b[0;34m)\u001b[0m\u001b[0;34m\u001b[0m\u001b[0;34m\u001b[0m\u001b[0m\n\u001b[0m\u001b[1;32m      3\u001b[0m \u001b[0msample_most_likely\u001b[0m\u001b[0;34m(\u001b[0m\u001b[0mresult\u001b[0m\u001b[0;34m.\u001b[0m\u001b[0meigenstate\u001b[0m\u001b[0;34m)\u001b[0m\u001b[0;34m\u001b[0m\u001b[0;34m\u001b[0m\u001b[0m\n\u001b[1;32m      4\u001b[0m \u001b[0;34m\u001b[0m\u001b[0m\n\u001b[1;32m      5\u001b[0m \u001b[0;31m#exact_eigen = NumPyMinimumEigensolver()\u001b[0m\u001b[0;34m\u001b[0m\u001b[0;34m\u001b[0m\u001b[0m\n",
      "\u001b[0;31mAttributeError\u001b[0m: 'NumPyMinimumEigensolver' object has no attribute 'run'"
     ]
    }
   ],
   "source": [
    "exact_eigensolver = NumPyMinimumEigensolver(H)\n",
    "result = exact_eigensolver.run()\n",
    "sample_most_likely(result.eigenstate)\n",
    "\n",
    "#exact_eigen = NumPyMinimumEigensolver()\n",
    "#exact_eigensolver = MinimumEigenOptimizer(exact_eigen)\n",
    "#result = exact_eigensolver.solve()\n",
    "#sample_most_likely(result.eigenstate)\n",
    "\n",
    "\n"
   ]
  },
  {
   "cell_type": "code",
   "execution_count": null,
   "id": "b40d1437",
   "metadata": {},
   "outputs": [],
   "source": []
  },
  {
   "cell_type": "code",
   "execution_count": null,
   "id": "664bfc9b",
   "metadata": {},
   "outputs": [],
   "source": []
  }
 ],
 "metadata": {
  "kernelspec": {
   "display_name": "Python 3 (ipykernel)",
   "language": "python",
   "name": "python3"
  },
  "language_info": {
   "codemirror_mode": {
    "name": "ipython",
    "version": 3
   },
   "file_extension": ".py",
   "mimetype": "text/x-python",
   "name": "python",
   "nbconvert_exporter": "python",
   "pygments_lexer": "ipython3",
   "version": "3.9.7"
  }
 },
 "nbformat": 4,
 "nbformat_minor": 5
}

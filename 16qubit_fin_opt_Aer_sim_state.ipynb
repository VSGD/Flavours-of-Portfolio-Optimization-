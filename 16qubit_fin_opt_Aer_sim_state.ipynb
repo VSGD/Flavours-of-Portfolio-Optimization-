{
 "cells": [
  {
   "cell_type": "code",
   "execution_count": 1,
   "id": "34692742",
   "metadata": {},
   "outputs": [],
   "source": [
    "from qiskit import Aer\n",
    "from qiskit.algorithms import VQE, QAOA, NumPyMinimumEigensolver\n",
    "from qiskit.algorithms.optimizers import COBYLA\n",
    "from qiskit.circuit.library import TwoLocal\n",
    "from qiskit.utils import QuantumInstance\n",
    "from qiskit_finance.applications.optimization import PortfolioOptimization\n",
    "from qiskit_finance.data_providers import RandomDataProvider\n",
    "from qiskit_optimization.algorithms import MinimumEigenOptimizer\n",
    "from qiskit_optimization.applications import OptimizationApplication\n",
    "from qiskit_optimization.converters import QuadraticProgramToQubo\n",
    "import numpy as np\n",
    "import matplotlib.pyplot as plt\n",
    "import datetime\n"
   ]
  },
  {
   "cell_type": "code",
   "execution_count": 2,
   "id": "25af38b5",
   "metadata": {},
   "outputs": [],
   "source": [
    "# set number of assets (= number of qubits)\n",
    "num_assets = 16\n",
    "seed = 123\n",
    "\n",
    "# Generate expected return and covariance matrix from (random) time-series\n",
    "stocks = [(\"TICKER%s\" % i) for i in range(num_assets)]\n",
    "data = RandomDataProvider(\n",
    "    tickers=stocks,\n",
    "    start=datetime.datetime(2016, 1, 1),\n",
    "    end=datetime.datetime(2016, 1, 30),\n",
    "    seed=seed,\n",
    ")\n",
    "data.run()\n",
    "mu = data.get_period_return_mean_vector()\n",
    "sigma = data.get_period_return_covariance_matrix()"
   ]
  },
  {
   "cell_type": "code",
   "execution_count": 3,
   "id": "d50d458d",
   "metadata": {},
   "outputs": [
    {
     "data": {
      "image/png": "[encoded data removed]",
      "text/plain": [
       "<Figure size 432x288 with 1 Axes>"
      ]
     },
     "metadata": {
      "needs_background": "light"
     },
     "output_type": "display_data"
    }
   ],
   "source": [
    "# plot sigma\n",
    "plt.imshow(sigma, interpolation=\"nearest\")\n",
    "plt.show()"
   ]
  },
  {
   "cell_type": "code",
   "execution_count": 4,
   "id": "af700d83",
   "metadata": {},
   "outputs": [
    {
     "data": {
      "text/plain": [
       "\\ This file has been generated by DOcplex\n",
       "\\ ENCODING=ISO-8859-1\n",
       "\\Problem name: Portfolio optimization\n",
       "\n",
       "Minimize\n",
       " obj: - 0.015284386652 x_0 + 0.000780952145 x_1 - 0.000517920547 x_2\n",
       "      - 0.000870005837 x_3 - 0.010323519990 x_4 + 0.001666841256 x_5\n",
       "      - 0.027213819622 x_6 - 0.000348237886 x_7 + 0.001120764278 x_8\n",
       "      + 0.012440342693 x_9 - 0.001609199513 x_10 - 0.003794418593 x_11\n",
       "      + 0.005877766869 x_12 + 0.000012499152 x_13 + 0.002068760335 x_14\n",
       "      - 0.001315079556 x_15 + [ 0.002541388592 x_0^2 + 0.000146804433 x_0*x_1\n",
       "      + 0.000257201062 x_0*x_2 - 0.000199722426 x_0*x_3 - 0.000626398406 x_0*x_4\n",
       "      + 0.000478782112 x_0*x_5 + 0.005160155269 x_0*x_6 + 0.000564541457 x_0*x_7\n",
       "      - 0.000049255458 x_0*x_8 + 0.001754659006 x_0*x_9\n",
       "      - 0.000083775278 x_0*x_10 + 0.000164466673 x_0*x_11\n",
       "      - 0.000175818183 x_0*x_12 - 0.000293174393 x_0*x_13\n",
       "      + 0.000299688017 x_0*x_14 - 0.000506629233 x_0*x_15 + 0.000258486713 x_1^2\n",
       "      + 0.000106085519 x_1*x_2 + 0.000088963242 x_1*x_3 - 0.000026490315 x_1*x_4\n",
       "      - 0.000159895987 x_1*x_5 - 0.000517341706 x_1*x_6 - 0.000034553283 x_1*x_7\n",
       "      + 0.000146005788 x_1*x_8 + 0.000255384882 x_1*x_9\n",
       "      + 0.000067312766 x_1*x_10 - 0.000120551417 x_1*x_11\n",
       "      + 0.000051610218 x_1*x_12 + 0.000004930830 x_1*x_13\n",
       "      - 0.000089062402 x_1*x_14 - 0.000054459325 x_1*x_15 + 0.000791504681 x_2^2\n",
       "      - 0.000247774763 x_2*x_3 - 0.000001940547 x_2*x_4 - 0.000392649749 x_2*x_5\n",
       "      - 0.001507503903 x_2*x_6 + 0.000157733994 x_2*x_7 - 0.000284165508 x_2*x_8\n",
       "      + 0.000142293150 x_2*x_9 + 0.000151699374 x_2*x_10\n",
       "      - 0.000185655550 x_2*x_11 - 0.000062539941 x_2*x_12\n",
       "      + 0.000182624604 x_2*x_13 + 0.000183361562 x_2*x_14\n",
       "      + 0.000679218905 x_2*x_15 + 0.000197892585 x_3^2 + 0.000170306704 x_3*x_4\n",
       "      - 0.000047408731 x_3*x_5 + 0.001511766097 x_3*x_6 - 0.000053521388 x_3*x_7\n",
       "      + 0.000099979610 x_3*x_8 + 0.000164262736 x_3*x_9\n",
       "      + 0.000079638687 x_3*x_10 - 0.000007902281 x_3*x_11\n",
       "      + 0.000121471388 x_3*x_12 - 0.000052172778 x_3*x_13\n",
       "      + 0.000039676111 x_3*x_14 - 0.000274655876 x_3*x_15 + 0.000543294856 x_4^2\n",
       "      + 0.000169194761 x_4*x_5 + 0.000186149847 x_4*x_6 + 0.000146945006 x_4*x_7\n",
       "      - 0.000019786731 x_4*x_8 + 0.000117733792 x_4*x_9\n",
       "      + 0.000247331233 x_4*x_10 + 0.000181997807 x_4*x_11\n",
       "      + 0.000345527632 x_4*x_12 + 0.000021241740 x_4*x_13\n",
       "      + 0.000275405737 x_4*x_14 - 0.000203523674 x_4*x_15 + 0.000509325497 x_5^2\n",
       "      + 0.000824501594 x_5*x_6 + 0.000299088364 x_5*x_7 + 0.000044895727 x_5*x_8\n",
       "      - 0.000069214841 x_5*x_9 + 0.000100042719 x_5*x_10\n",
       "      + 0.000073888206 x_5*x_11 + 0.000158344305 x_5*x_12\n",
       "      - 0.000001462104 x_5*x_13 - 0.000121264579 x_5*x_14\n",
       "      - 0.000004062829 x_5*x_15 + 0.043303970144 x_6^2 + 0.000965608774 x_6*x_7\n",
       "      + 0.001138495411 x_6*x_8 + 0.004098476391 x_6*x_9\n",
       "      + 0.002037383260 x_6*x_10 + 0.001833329613 x_6*x_11\n",
       "      + 0.002240693081 x_6*x_12 - 0.001338998674 x_6*x_13\n",
       "      + 0.003141186830 x_6*x_14 - 0.004803242894 x_6*x_15 + 0.000708098881 x_7^2\n",
       "      - 0.000158711296 x_7*x_8 + 0.000181263430 x_7*x_9\n",
       "      + 0.000148344607 x_7*x_10 + 0.000056213114 x_7*x_11\n",
       "      + 0.000008253347 x_7*x_12 - 0.000037293423 x_7*x_13\n",
       "      + 0.000072176455 x_7*x_14 + 0.000186417585 x_7*x_15 + 0.000229136926 x_8^2\n",
       "      - 0.000207476259 x_8*x_9 - 0.000007834855 x_8*x_10\n",
       "      + 0.000011250143 x_8*x_11 + 0.000019594834 x_8*x_12\n",
       "      - 0.000054935994 x_8*x_13 + 0.000026008983 x_8*x_14\n",
       "      + 0.000330763972 x_8*x_15 + 0.001830798980 x_9^2 - 0.000736615156 x_9*x_10\n",
       "      + 0.000051091187 x_9*x_11 + 0.000022247348 x_9*x_12\n",
       "      - 0.000286725778 x_9*x_13 + 0.000119069331 x_9*x_14\n",
       "      - 0.000420315739 x_9*x_15 + 0.000651074465 x_10^2\n",
       "      + 0.000029275079 x_10*x_11 + 0.000287314935 x_10*x_12\n",
       "      - 0.000041150576 x_10*x_13 + 0.000101809579 x_10*x_14\n",
       "      - 0.000015167744 x_10*x_15 + 0.000170444576 x_11^2\n",
       "      + 0.000150629812 x_11*x_12 - 0.000120411059 x_11*x_13\n",
       "      + 0.000126398143 x_11*x_14 - 0.000181376949 x_11*x_15\n",
       "      + 0.000501028621 x_12^2 - 0.000026992750 x_12*x_13\n",
       "      + 0.000155434676 x_12*x_14 - 0.000400492337 x_12*x_15\n",
       "      + 0.000160749113 x_13^2 - 0.000153519375 x_13*x_14\n",
       "      + 0.000295456315 x_13*x_15 + 0.000338097967 x_14^2\n",
       "      - 0.000177457605 x_14*x_15 + 0.001610830142 x_15^2 ]/2\n",
       "Subject To\n",
       " c0: x_0 + x_1 + x_2 + x_3 + x_4 + x_5 + x_6 + x_7 + x_8 + x_9 + x_10 + x_11\n",
       "     + x_12 + x_13 + x_14 + x_15 = 8\n",
       "\n",
       "Bounds\n",
       " 0 <= x_0 <= 1\n",
       " 0 <= x_1 <= 1\n",
       " 0 <= x_2 <= 1\n",
       " 0 <= x_3 <= 1\n",
       " 0 <= x_4 <= 1\n",
       " 0 <= x_5 <= 1\n",
       " 0 <= x_6 <= 1\n",
       " 0 <= x_7 <= 1\n",
       " 0 <= x_8 <= 1\n",
       " 0 <= x_9 <= 1\n",
       " 0 <= x_10 <= 1\n",
       " 0 <= x_11 <= 1\n",
       " 0 <= x_12 <= 1\n",
       " 0 <= x_13 <= 1\n",
       " 0 <= x_14 <= 1\n",
       " 0 <= x_15 <= 1\n",
       "\n",
       "Binaries\n",
       " x_0 x_1 x_2 x_3 x_4 x_5 x_6 x_7 x_8 x_9 x_10 x_11 x_12 x_13 x_14 x_15\n",
       "End"
      ]
     },
     "execution_count": 4,
     "metadata": {},
     "output_type": "execute_result"
    }
   ],
   "source": [
    "q = 0.5  # set risk factor\n",
    "budget = num_assets // 2  # set budget\n",
    "penalty = num_assets  # set parameter to scale the budget penalty term\n",
    "\n",
    "portfolio = PortfolioOptimization(\n",
    "    expected_returns=mu, covariances=sigma, risk_factor=q, budget=budget\n",
    ")\n",
    "qp = portfolio.to_quadratic_program()\n",
    "qp"
   ]
  },
  {
   "cell_type": "code",
   "execution_count": 5,
   "id": "d80e85eb",
   "metadata": {},
   "outputs": [],
   "source": [
    "def index_to_selection(i, num_assets):\n",
    "    s = \"{0:b}\".format(i).rjust(num_assets)\n",
    "    x = np.array([1 if s[i] == \"1\" else 0 for i in reversed(range(num_assets))])\n",
    "    return x\n",
    "\n",
    "\n",
    "def print_result(result):\n",
    "    selection = result.x\n",
    "    value = result.fval\n",
    "    print(\"Optimal: selection {}, value {:.4f}\".format(selection, value))\n",
    "\n",
    "    eigenstate = result.min_eigen_solver_result.eigenstate\n",
    "    eigenvector = eigenstate if isinstance(eigenstate, np.ndarray) else eigenstate.to_matrix()\n",
    "    probabilities = np.abs(eigenvector) ** 2\n",
    "    i_sorted = reversed(np.argsort(probabilities))\n",
    "    print(\"\\n----------------- Full result ---------------------\")\n",
    "    print(\"selection\\tvalue\\t\\tprobability\")\n",
    "    print(\"---------------------------------------------------\")\n",
    "    for i in i_sorted:\n",
    "        x = index_to_selection(i, num_assets)\n",
    "        value = QuadraticProgramToQubo().convert(qp).objective.evaluate(x)\n",
    "        # value = portfolio.to_quadratic_program().objective.evaluate(x)\n",
    "        probability = probabilities[i]\n",
    "        print(\"%10s\\t%.4f\\t\\t%.4f\" % (x, value, probability))"
   ]
  },
  {
   "cell_type": "code",
   "execution_count": null,
   "id": "c64761f0",
   "metadata": {},
   "outputs": [
    {
     "name": "stderr",
     "output_type": "stream",
     "text": [
      "Note: Using a statevector_simulator with 16 qubits can be very expensive. Consider using the Aer qasm_simulator instead to take advantage of Aer's built-in fast Pauli Expectation\n"
     ]
    }
   ],
   "source": [
    "%%time\n",
    "from qiskit.utils import algorithm_globals\n",
    "\n",
    "algorithm_globals.random_seed = 1234\n",
    "backend = Aer.get_backend(\"aer_simulator_statevector\")\n",
    "\n",
    "cobyla = COBYLA()\n",
    "cobyla.set_options(maxiter=500)\n",
    "ry = TwoLocal(num_assets, \"ry\", \"cz\", reps=3, entanglement=\"full\")\n",
    "quantum_instance = QuantumInstance(backend=backend, seed_simulator=seed, seed_transpiler=seed)\n",
    "vqe_mes = VQE(ry, optimizer=cobyla, quantum_instance=quantum_instance)\n",
    "vqe = MinimumEigenOptimizer(vqe_mes)\n",
    "result = vqe.solve(qp)\n",
    "\n",
    "print_result(result)"
   ]
  },
  {
   "cell_type": "code",
   "execution_count": null,
   "id": "ec0ef1e4",
   "metadata": {},
   "outputs": [],
   "source": [
    "%%time\n",
    "algorithm_globals.random_seed = 1234\n",
    "backend = Aer.get_backend(\"aer_simulator_statevector\")\n",
    "\n",
    "cobyla = COBYLA()\n",
    "cobyla.set_options(maxiter=250)\n",
    "quantum_instance = QuantumInstance(backend=backend, seed_simulator=seed, seed_transpiler=seed)\n",
    "qaoa_mes = QAOA(optimizer=cobyla, reps=3, quantum_instance=quantum_instance)\n",
    "qaoa = MinimumEigenOptimizer(qaoa_mes)\n",
    "result = qaoa.solve(qp)\n",
    "\n",
    "print_result(result)"
   ]
  },
  {
   "cell_type": "code",
   "execution_count": null,
   "id": "401bcf86",
   "metadata": {},
   "outputs": [],
   "source": []
  },
  {
   "cell_type": "code",
   "execution_count": null,
   "id": "ed4852c5",
   "metadata": {},
   "outputs": [],
   "source": []
  },
  {
   "cell_type": "code",
   "execution_count": null,
   "id": "96d9d99d",
   "metadata": {},
   "outputs": [],
   "source": []
  }
 ],
 "metadata": {
  "kernelspec": {
   "display_name": "Python 3 (ipykernel)",
   "language": "python",
   "name": "python3"
  },
  "language_info": {
   "codemirror_mode": {
    "name": "ipython",
    "version": 3
   },
   "file_extension": ".py",
   "mimetype": "text/x-python",
   "name": "python",
   "nbconvert_exporter": "python",
   "pygments_lexer": "ipython3",
   "version": "3.9.7"
  }
 },
 "nbformat": 4,
 "nbformat_minor": 5
}

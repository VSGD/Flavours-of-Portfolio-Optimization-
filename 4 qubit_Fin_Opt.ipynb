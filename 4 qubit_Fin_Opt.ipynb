{
 "cells": [
  {
   "cell_type": "code",
   "execution_count": 1,
   "id": "fd8060ec",
   "metadata": {},
   "outputs": [],
   "source": [
    "from qiskit import Aer\n",
    "from qiskit.algorithms import VQE, QAOA, NumPyMinimumEigensolver\n",
    "from qiskit.algorithms.optimizers import COBYLA\n",
    "from qiskit.circuit.library import TwoLocal\n",
    "from qiskit.utils import QuantumInstance\n",
    "from qiskit_finance.applications.optimization import PortfolioOptimization\n",
    "from qiskit_finance.data_providers import RandomDataProvider\n",
    "from qiskit_optimization.algorithms import MinimumEigenOptimizer\n",
    "from qiskit_optimization.applications import OptimizationApplication\n",
    "from qiskit_optimization.converters import QuadraticProgramToQubo\n",
    "import numpy as np\n",
    "import matplotlib.pyplot as plt\n",
    "import datetime\n"
   ]
  },
  {
   "cell_type": "code",
   "execution_count": 2,
   "id": "6ca0ce82",
   "metadata": {},
   "outputs": [],
   "source": [
    "# set number of assets (= number of qubits)\n",
    "num_assets = 5\n",
    "seed = 123\n",
    "\n",
    "# Generate expected return and covariance matrix from (random) time-series\n",
    "stocks = [(\"TICKER%s\" % i) for i in range(num_assets)]\n",
    "data = RandomDataProvider(\n",
    "    tickers=stocks,\n",
    "    start=datetime.datetime(2016, 1, 1),\n",
    "    end=datetime.datetime(2016, 1, 30),\n",
    "    seed=seed,\n",
    ")\n",
    "data.run()\n",
    "mu = data.get_period_return_mean_vector()\n",
    "sigma = data.get_period_return_covariance_matrix()"
   ]
  },
  {
   "cell_type": "code",
   "execution_count": 3,
   "id": "b225cbff",
   "metadata": {},
   "outputs": [
    {
     "data": {
      "image/png": "[encoded data removed]",
      "text/plain": [
       "<Figure size 432x288 with 1 Axes>"
      ]
     },
     "metadata": {
      "needs_background": "light"
     },
     "output_type": "display_data"
    }
   ],
   "source": [
    "# plot sigma\n",
    "plt.imshow(sigma, interpolation=\"nearest\")\n",
    "plt.show()"
   ]
  },
  {
   "cell_type": "code",
   "execution_count": 4,
   "id": "6ab9ef30",
   "metadata": {},
   "outputs": [
    {
     "data": {
      "text/plain": [
       "\\ This file has been generated by DOcplex\n",
       "\\ ENCODING=ISO-8859-1\n",
       "\\Problem name: Portfolio optimization\n",
       "\n",
       "Minimize\n",
       " obj: - 0.015284386652 x_0 + 0.000780952145 x_1 - 0.000517920547 x_2\n",
       "      - 0.000870005837 x_3 - 0.010323519990 x_4 + [ 0.002541388592 x_0^2\n",
       "      + 0.000146804433 x_0*x_1 + 0.000257201062 x_0*x_2 - 0.000199722426 x_0*x_3\n",
       "      - 0.000626398406 x_0*x_4 + 0.000258486713 x_1^2 + 0.000106085519 x_1*x_2\n",
       "      + 0.000088963242 x_1*x_3 - 0.000026490315 x_1*x_4 + 0.000791504681 x_2^2\n",
       "      - 0.000247774763 x_2*x_3 - 0.000001940547 x_2*x_4 + 0.000197892585 x_3^2\n",
       "      + 0.000170306704 x_3*x_4 + 0.000543294856 x_4^2 ]/2\n",
       "Subject To\n",
       " c0: x_0 + x_1 + x_2 + x_3 + x_4 = 2\n",
       "\n",
       "Bounds\n",
       " 0 <= x_0 <= 1\n",
       " 0 <= x_1 <= 1\n",
       " 0 <= x_2 <= 1\n",
       " 0 <= x_3 <= 1\n",
       " 0 <= x_4 <= 1\n",
       "\n",
       "Binaries\n",
       " x_0 x_1 x_2 x_3 x_4\n",
       "End"
      ]
     },
     "execution_count": 4,
     "metadata": {},
     "output_type": "execute_result"
    }
   ],
   "source": [
    "q = 0.5  # set risk factor\n",
    "budget = num_assets // 2  # set budget\n",
    "penalty = num_assets  # set parameter to scale the budget penalty term\n",
    "\n",
    "portfolio = PortfolioOptimization(\n",
    "    expected_returns=mu, covariances=sigma, risk_factor=q, budget=budget\n",
    ")\n",
    "qp = portfolio.to_quadratic_program()\n",
    "qp"
   ]
  },
  {
   "cell_type": "code",
   "execution_count": 27,
   "id": "703e3748",
   "metadata": {},
   "outputs": [],
   "source": [
    "def index_to_selection(i, num_assets):\n",
    "    s = \"{0:b}\".format(i).rjust(num_assets)\n",
    "    x = np.array([1 if s[i] == \"1\" else 0 for i in reversed(range(num_assets))])\n",
    "    return x\n",
    "\n",
    "\n",
    "def print_result(result):\n",
    "    selection = result.x\n",
    "    value = result.fval\n",
    "    print(\"Optimal: selection {}, value {:.4f}\".format(selection, value))\n",
    "\n",
    "    eigenstate = result.min_eigen_solver_result.eigenstate\n",
    "    eigenvector = eigenstate if isinstance(eigenstate, np.ndarray) else eigenstate.to_matrix()\n",
    "    probabilities = np.abs(eigenvector) ** 2\n",
    "    i_sorted = reversed(np.argsort(probabilities))\n",
    "    print(\"\\n----------------- Full result ---------------------\")\n",
    "    print(\"selection\\tvalue\\t\\tprobability\")\n",
    "    print(\"---------------------------------------------------\")\n",
    "    for i in i_sorted:\n",
    "        x = index_to_selection(i, num_assets)\n",
    "        value = QuadraticProgramToQubo().convert(qp).objective.evaluate(x)\n",
    "        # value = portfolio.to_quadratic_program().objective.evaluate(x)\n",
    "        probability = probabilities[i]\n",
    "        print(\"%10s\\t%.4f\\t\\t%.4f\" % (x, value, probability))"
   ]
  },
  {
   "cell_type": "code",
   "execution_count": 28,
   "id": "980442e6",
   "metadata": {},
   "outputs": [
    {
     "name": "stdout",
     "output_type": "stream",
     "text": [
      "Optimal: selection [1. 0. 0. 1.], value -0.0149\n",
      "\n",
      "----------------- Full result ---------------------\n",
      "selection\tvalue\t\tprobability\n",
      "---------------------------------------------------\n",
      " [1 0 0 1]\t-0.0149\t\t0.8670\n",
      " [0 0 1 1]\t-0.0010\t\t0.1054\n",
      " [1 1 0 0]\t-0.0130\t\t0.0214\n",
      " [1 0 1 0]\t-0.0140\t\t0.0042\n",
      " [0 1 0 1]\t0.0002\t\t0.0013\n",
      " [0 1 1 0]\t0.0008\t\t0.0006\n",
      " [0 0 1 0]\t1.0197\t\t0.0001\n",
      " [1 1 1 0]\t1.0069\t\t0.0001\n",
      " [0 1 1 1]\t1.0199\t\t0.0000\n",
      " [1 0 0 0]\t1.0059\t\t0.0000\n",
      " [0 1 0 0]\t1.0208\t\t0.0000\n",
      " [0 0 0 0]\t4.0795\t\t0.0000\n",
      " [1 1 0 1]\t1.0060\t\t0.0000\n",
      " [1 0 1 1]\t1.0049\t\t0.0000\n",
      " [0 0 0 1]\t1.0191\t\t0.0000\n",
      " [1 1 1 1]\t4.0656\t\t0.0000\n",
      "CPU times: user 1.38 s, sys: 81.6 ms, total: 1.46 s\n",
      "Wall time: 1.51 s\n"
     ]
    }
   ],
   "source": [
    "%%time\n",
    "from qiskit.utils import algorithm_globals\n",
    "\n",
    "algorithm_globals.random_seed = 1234\n",
    "backend = Aer.get_backend(\"statevector_simulator\")\n",
    "\n",
    "cobyla = COBYLA()\n",
    "cobyla.set_options(maxiter=500)\n",
    "ry = TwoLocal(num_assets, \"ry\", \"cz\", reps=3, entanglement=\"full\")\n",
    "quantum_instance = QuantumInstance(backend=backend, seed_simulator=seed, seed_transpiler=seed)\n",
    "vqe_mes = VQE(ry, optimizer=cobyla, quantum_instance=quantum_instance)\n",
    "vqe = MinimumEigenOptimizer(vqe_mes)\n",
    "result = vqe.solve(qp)\n",
    "\n",
    "print_result(result)"
   ]
  },
  {
   "cell_type": "code",
   "execution_count": 29,
   "id": "b92b0615",
   "metadata": {},
   "outputs": [
    {
     "name": "stdout",
     "output_type": "stream",
     "text": [
      "Optimal: selection [1. 0. 0. 1.], value -0.0149\n",
      "\n",
      "----------------- Full result ---------------------\n",
      "selection\tvalue\t\tprobability\n",
      "---------------------------------------------------\n",
      " [1 0 0 1]\t-0.0149\t\t0.1683\n",
      " [1 0 1 0]\t-0.0140\t\t0.1682\n",
      " [1 1 0 0]\t-0.0130\t\t0.1679\n",
      " [0 0 1 1]\t-0.0010\t\t0.1653\n",
      " [0 1 0 1]\t0.0002\t\t0.1652\n",
      " [0 1 1 0]\t0.0008\t\t0.1650\n",
      " [1 1 1 1]\t4.0656\t\t0.0000\n",
      " [0 0 0 0]\t4.0795\t\t0.0000\n",
      " [1 0 1 1]\t1.0049\t\t0.0000\n",
      " [1 1 0 1]\t1.0060\t\t0.0000\n",
      " [1 1 1 0]\t1.0069\t\t0.0000\n",
      " [0 1 0 0]\t1.0208\t\t0.0000\n",
      " [0 0 1 0]\t1.0197\t\t0.0000\n",
      " [0 0 0 1]\t1.0191\t\t0.0000\n",
      " [0 1 1 1]\t1.0199\t\t0.0000\n",
      " [1 0 0 0]\t1.0059\t\t0.0000\n",
      "CPU times: user 633 ms, sys: 23.1 ms, total: 656 ms\n",
      "Wall time: 656 ms\n"
     ]
    }
   ],
   "source": [
    "%%time\n",
    "algorithm_globals.random_seed = 1234\n",
    "backend = Aer.get_backend(\"statevector_simulator\")\n",
    "\n",
    "cobyla = COBYLA()\n",
    "cobyla.set_options(maxiter=250)\n",
    "quantum_instance = QuantumInstance(backend=backend, seed_simulator=seed, seed_transpiler=seed)\n",
    "qaoa_mes = QAOA(optimizer=cobyla, reps=3, quantum_instance=quantum_instance)\n",
    "qaoa = MinimumEigenOptimizer(qaoa_mes)\n",
    "result = qaoa.solve(qp)\n",
    "\n",
    "print_result(result)"
   ]
  },
  {
   "cell_type": "code",
   "execution_count": null,
   "id": "0cfa95b7",
   "metadata": {},
   "outputs": [],
   "source": []
  }
 ],
 "metadata": {
  "kernelspec": {
   "display_name": "Python 3 (ipykernel)",
   "language": "python",
   "name": "python3"
  },
  "language_info": {
   "codemirror_mode": {
    "name": "ipython",
    "version": 3
   },
   "file_extension": ".py",
   "mimetype": "text/x-python",
   "name": "python",
   "nbconvert_exporter": "python",
   "pygments_lexer": "ipython3",
   "version": "3.9.7"
  }
 },
 "nbformat": 4,
 "nbformat_minor": 5
}

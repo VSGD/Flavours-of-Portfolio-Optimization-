{
 "cells": [
  {
   "cell_type": "code",
   "execution_count": null,
   "id": "295d192b",
   "metadata": {},
   "outputs": [],
   "source": [
    "!pip install yfinance\n",
    "\n",
    "#import numpy as np\n",
    "import yfinance as yf\n",
    "#import pandas as pd\n",
    "#import matplotlib.pyplot as plt\n",
    "#import scipy.optimize as optimization"
   ]
  },
  {
   "cell_type": "code",
   "execution_count": null,
   "id": "6fc6e076",
   "metadata": {},
   "outputs": [],
   "source": [
    "import os                               # Operating system\n",
    "import math                             # Mathematics\n",
    "import numpy as np                      # Arrays\n",
    "import pandas as pd                     # Dataframes\n",
    "import matplotlib.pyplot as plt         # Graphs\n",
    "from matplotlib import cm               # Colours\n",
    "import scipy                            # Scientific computing\n",
    "import cvxpy as cp                      # Convex optimisation\n",
    "from mpl_toolkits.mplot3d import Axes3D # 3D graphs\n"
   ]
  },
  {
   "cell_type": "code",
   "execution_count": null,
   "id": "e3c735d5",
   "metadata": {},
   "outputs": [],
   "source": [
    "%matplotlib inline"
   ]
  },
  {
   "cell_type": "code",
   "execution_count": null,
   "id": "55c40de9",
   "metadata": {},
   "outputs": [],
   "source": [
    "NUM_TRADING_DAYS = 365\n",
    "NUM_PORTFOLIOS = 10000\n",
    "stocks = ['WMT', 'INTC']"
   ]
  },
  {
   "cell_type": "code",
   "execution_count": null,
   "id": "ee903b7d",
   "metadata": {},
   "outputs": [],
   "source": [
    "start_date = '2015-01-09' # YY/MM/DD\n",
    "end_date = '2020-01-09'   # YY/MM/DD"
   ]
  },
  {
   "cell_type": "code",
   "execution_count": null,
   "id": "589d8879",
   "metadata": {},
   "outputs": [],
   "source": [
    "def download_data():\n",
    "    stock_data = {}\n",
    "    for stock in stocks:\n",
    "        ticker = yf.Ticker(stock)\n",
    "        stock_data[stock] = ticker.history(start=start_date, end=end_date, )['Close']\n",
    "\n",
    "    return pd.DataFrame(stock_data)\n"
   ]
  },
  {
   "cell_type": "code",
   "execution_count": null,
   "id": "9423c02f",
   "metadata": {},
   "outputs": [],
   "source": [
    "def show_data(data):\n",
    "    data.plot(figsize=(8, 5))\n",
    "    plt.show()\n"
   ]
  },
  {
   "cell_type": "code",
   "execution_count": null,
   "id": "3e618dd2",
   "metadata": {},
   "outputs": [],
   "source": [
    "def calculate_return(data):\n",
    "    log_return = np.log(data / data.shift(1))\n",
    "    return log_return[1:]\n"
   ]
  },
  {
   "cell_type": "code",
   "execution_count": null,
   "id": "57582b7d",
   "metadata": {},
   "outputs": [],
   "source": [
    "def show_statistics(returns):\n",
    "    print(returns.mean() * NUM_TRADING_DAYS)\n",
    "    print(returns.cov() * NUM_TRADING_DAYS)"
   ]
  },
  {
   "cell_type": "code",
   "execution_count": null,
   "id": "4711fa19",
   "metadata": {},
   "outputs": [],
   "source": []
  }
 ],
 "metadata": {
  "kernelspec": {
   "display_name": "Python 3 (ipykernel)",
   "language": "python",
   "name": "python3"
  },
  "language_info": {
   "codemirror_mode": {
    "name": "ipython",
    "version": 3
   },
   "file_extension": ".py",
   "mimetype": "text/x-python",
   "name": "python",
   "nbconvert_exporter": "python",
   "pygments_lexer": "ipython3",
   "version": "3.9.7"
  }
 },
 "nbformat": 4,
 "nbformat_minor": 5
}

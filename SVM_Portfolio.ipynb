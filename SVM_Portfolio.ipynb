{
 "cells": [
  {
   "cell_type": "code",
   "execution_count": 16,
   "id": "528fd769",
   "metadata": {},
   "outputs": [],
   "source": [
    "import pandas as pd\n",
    "import numpy as np\n",
    "import matplotlib.pyplot as plt\n",
    "import seaborn as sns \n",
    "import datetime\n",
    "from pandas.tseries.offsets import BDay\n",
    "from dateutil.relativedelta import relativedelta\n",
    "from sklearn.svm import SVR\n",
    "from sklearn.metrics import accuracy_score\n",
    "from sklearn.model_selection import GridSearchCV\n",
    "from sklearn.feature_selection import SelectPercentile, chi2\n",
    "from sklearn.model_selection import cross_val_score\n",
    "from sklearn.pipeline import Pipeline\n",
    "from sklearn.preprocessing import StandardScaler\n",
    "from sklearn.ensemble import RandomForestClassifier\n",
    "from sklearn.datasets import make_classification\n",
    "from sklearn.preprocessing import LabelEncoder\n",
    "from matplotlib.ticker import MaxNLocator\n",
    "from sklearn.metrics import mean_squared_error \n",
    "from geneticalgorithm import geneticalgorithm as ga\n",
    "import pickle"
   ]
  },
  {
   "cell_type": "code",
   "execution_count": 17,
   "id": "07faf036",
   "metadata": {},
   "outputs": [
    {
     "ename": "NameError",
     "evalue": "name 'data2' is not defined",
     "output_type": "error",
     "traceback": [
      "\u001b[0;31m---------------------------------------------------------------------------\u001b[0m",
      "\u001b[0;31mNameError\u001b[0m                                 Traceback (most recent call last)",
      "\u001b[0;32m/var/folders/7w/zcgrmt251lv983y14r0jcl0h0000gp/T/ipykernel_3804/605432993.py\u001b[0m in \u001b[0;36m<module>\u001b[0;34m\u001b[0m\n\u001b[0;32m----> 1\u001b[0;31m \u001b[0mmean\u001b[0m \u001b[0;34m=\u001b[0m \u001b[0mdata2\u001b[0m\u001b[0;34m.\u001b[0m\u001b[0mgroupby\u001b[0m\u001b[0;34m(\u001b[0m\u001b[0mdata2\u001b[0m\u001b[0;34m.\u001b[0m\u001b[0mafterdate\u001b[0m\u001b[0;34m)\u001b[0m\u001b[0;34m.\u001b[0m\u001b[0mconm\u001b[0m\u001b[0;34m.\u001b[0m\u001b[0mnunique\u001b[0m\u001b[0;34m(\u001b[0m\u001b[0;34m)\u001b[0m\u001b[0;34m.\u001b[0m\u001b[0mmean\u001b[0m\u001b[0;34m(\u001b[0m\u001b[0;34m)\u001b[0m\u001b[0;34m\u001b[0m\u001b[0;34m\u001b[0m\u001b[0m\n\u001b[0m\u001b[1;32m      2\u001b[0m \u001b[0mplt\u001b[0m\u001b[0;34m.\u001b[0m\u001b[0mplot\u001b[0m\u001b[0;34m(\u001b[0m\u001b[0mdata2\u001b[0m\u001b[0;34m.\u001b[0m\u001b[0mgroupby\u001b[0m\u001b[0;34m(\u001b[0m\u001b[0mdata2\u001b[0m\u001b[0;34m.\u001b[0m\u001b[0mafterdate\u001b[0m\u001b[0;34m)\u001b[0m\u001b[0;34m.\u001b[0m\u001b[0mconm\u001b[0m\u001b[0;34m.\u001b[0m\u001b[0mnunique\u001b[0m\u001b[0;34m(\u001b[0m\u001b[0;34m)\u001b[0m\u001b[0;34m)\u001b[0m\u001b[0;34m\u001b[0m\u001b[0;34m\u001b[0m\u001b[0m\n\u001b[1;32m      3\u001b[0m \u001b[0mplt\u001b[0m\u001b[0;34m.\u001b[0m\u001b[0mtitle\u001b[0m\u001b[0;34m(\u001b[0m\u001b[0;34m'Number of companies per quarter'\u001b[0m\u001b[0;34m)\u001b[0m\u001b[0;34m\u001b[0m\u001b[0;34m\u001b[0m\u001b[0m\n\u001b[1;32m      4\u001b[0m \u001b[0mplt\u001b[0m\u001b[0;34m.\u001b[0m\u001b[0maxhline\u001b[0m\u001b[0;34m(\u001b[0m\u001b[0my\u001b[0m \u001b[0;34m=\u001b[0m \u001b[0mmean\u001b[0m\u001b[0;34m,\u001b[0m \u001b[0mcolor\u001b[0m\u001b[0;34m=\u001b[0m\u001b[0;34m'r'\u001b[0m\u001b[0;34m,\u001b[0m \u001b[0mlinestyle\u001b[0m\u001b[0;34m=\u001b[0m\u001b[0;34m' — '\u001b[0m\u001b[0;34m)\u001b[0m\u001b[0;34m\u001b[0m\u001b[0;34m\u001b[0m\u001b[0m\n",
      "\u001b[0;31mNameError\u001b[0m: name 'data2' is not defined"
     ]
    }
   ],
   "source": [
    "mean = data2.groupby(data2.afterdate).conm.nunique().mean()\n",
    "plt.plot(data2.groupby(data2.afterdate).conm.nunique())\n",
    "plt.title('Number of companies per quarter')\n",
    "plt.axhline(y = mean, color='r', linestyle=' — ')"
   ]
  },
  {
   "cell_type": "code",
   "execution_count": 13,
   "id": "ef15a3cb",
   "metadata": {},
   "outputs": [],
   "source": [
    "def model_funk(svrdt, trainStart, trainEnd, kernelValue, cValue, gammaValue, epsilonValue, compToChoose):   \n",
    "    \n",
    "    #handle with infinities\n",
    "    svrdt = svrdt[~svrdt.isin([np.nan, np.inf, -np.inf]).any(1)]\n",
    "    \n",
    "    #turn below three lines into comment if you choose not to create company dummies? create company dummies\n",
    "    \n",
    "    dummy = pd.get_dummies(svrdt['conm'])\n",
    "    svrdt = pd.concat([svrdt,dummy], axis = 1)\n",
    "    \n",
    "    #dividing data into train and test sets depending on trainStart and trainEnd dates\n",
    "    svrdt['afterdate'] = pd.to_datetime(svrdt['afterdate'].astype(str), format='%Y-%m-%d')\n",
    "    svrdt = svrdt.sort_values('afterdate')\n",
    "    train = svrdt[(svrdt['year'] < trainEnd) & (svrdt['year'] >= trainStart)]\n",
    "    test = svrdt[svrdt['year'] == trainEnd]\n",
    "    trainIx = svrdt[(svrdt['year'] < trainEnd) & (svrdt['year'] >= 2010)].index\n",
    "    testIx = svrdt[svrdt['year'] >= trainEnd].index\n",
    "    \n",
    "    Stt = train\n",
    "    #choose explanatory variables for train\n",
    "    S  = train.drop(['afterdate','conm','futureQDate','qReturn'], axis=1)\n",
    "    #choose dependent variable for train\n",
    "    t = train[['qReturn']]\n",
    "    SSS = test\n",
    "    #choose explanatory variables for test\n",
    "    SS = test.drop(['afterdate','conm','futureQDate','qReturn'], axis=1)\n",
    "    #choose dependent variable for test\n",
    "    tt = test[['qReturn']]\n",
    "#feature scaling for train\n",
    "    sc_S = StandardScaler()\n",
    "    sc_t = StandardScaler()\n",
    "    S2 = sc_S.fit_transform(S)\n",
    "    t2 = sc_t.fit_transform(t)\n",
    "#feature scaling for test\n",
    "    scc_S = StandardScaler()\n",
    "    scc_t = StandardScaler()\n",
    "    SS2 = scc_S.fit_transform(SS)\n",
    "    tt2 = scc_t.fit_transform(tt)\n",
    "#create SVR model\n",
    "    regressor = SVR(kernel = kernelValue ,C= cValue, gamma = gammaValue, epsilon = epsilonValue)\n",
    "    #fit the model to train data\n",
    "    regressor.fit(S2, t2)\n",
    "    #predict test data results \n",
    "    preds = regressor.predict(SS2)\n",
    "    SSS['preds'] = preds\n",
    "#choose best N companies for the portfolio for each quarter in the test set\n",
    "    top10 = SSS.groupby('afterdate').apply(lambda x: x.nlargest(compToChoose, 'preds')).reset_index(drop=True) \n",
    "    a = top10.groupby('afterdate')['qReturn'].mean()\n",
    "    a = a+1\n",
    "    \n",
    "    #create portfolio return for the test year\n",
    "    a.index = pd.to_datetime(a.index)\n",
    "    a = pd.DataFrame(a)\n",
    "    a['cumulativeReturn'] = 1\n",
    "    a = a.rename(columns={\"qReturn\": \"portfolioReturn\"})\n",
    "    x = 100\n",
    "#create cumulative return column\n",
    "    for i in range(len(a)):\n",
    "        a.iloc[i, 1] = a.iloc[i, 0]*x\n",
    "        x = a.iloc[i, 1]\n",
    "    a['date'] = a.index\n",
    "    return a"
   ]
  },
  {
   "cell_type": "code",
   "execution_count": 14,
   "id": "bc5c0e17",
   "metadata": {},
   "outputs": [],
   "source": [
    "\n",
    "def modelAll1(data2, kernelValue, cValue, gammaValue, epsilon, compToChoose):  \n",
    "    #create return predictions for each year in the between 2013 and 2020\n",
    "    p13 = model_funk(data2, 2010, 2013, kernelValue, cValue, gammaValue, epsilon, compToChoose)\n",
    "    p14 = model_funk(data2, 2011, 2014, kernelValue, cValue, gammaValue, epsilon, compToChoose)\n",
    "    p15 = model_funk(data2, 2012, 2015, kernelValue, cValue, gammaValue, epsilon, compToChoose)\n",
    "    p16 = model_funk(data2, 2013, 2016, kernelValue, cValue, gammaValue, epsilon, compToChoose)\n",
    "    p17 = model_funk(data2, 2014, 2017, kernelValue, cValue, gammaValue, epsilon, compToChoose)\n",
    "    p18 = model_funk(data2, 2015, 2018, kernelValue, cValue, gammaValue, epsilon, compToChoose)\n",
    "    p19 = model_funk(data2, 2016, 2019, kernelValue, cValue, gammaValue, epsilon, compToChoose)\n",
    "    \n",
    "    #concatanate all the predictions\n",
    "    pAll = pd.concat([p13,p14,p15,p16,p17,p18,p19])\n",
    "    x = 100\n",
    "#create cumulative return column\n",
    "    for i in range(len(pAll)):\n",
    "        pAll.iloc[i, 1] = pAll.iloc[i, 0]*x\n",
    "        x = pAll.iloc[i, 1]\n",
    "    \n",
    "    return pAll"
   ]
  },
  {
   "cell_type": "code",
   "execution_count": 15,
   "id": "fee0c67d",
   "metadata": {},
   "outputs": [
    {
     "ename": "NameError",
     "evalue": "name 'data2' is not defined",
     "output_type": "error",
     "traceback": [
      "\u001b[0;31m---------------------------------------------------------------------------\u001b[0m",
      "\u001b[0;31mNameError\u001b[0m                                 Traceback (most recent call last)",
      "\u001b[0;32m/var/folders/7w/zcgrmt251lv983y14r0jcl0h0000gp/T/ipykernel_3804/141849743.py\u001b[0m in \u001b[0;36m<module>\u001b[0;34m\u001b[0m\n\u001b[1;32m     13\u001b[0m             \u001b[0;32mfor\u001b[0m \u001b[0me\u001b[0m \u001b[0;32min\u001b[0m \u001b[0mepsilonVals\u001b[0m\u001b[0;34m:\u001b[0m\u001b[0;34m\u001b[0m\u001b[0;34m\u001b[0m\u001b[0m\n\u001b[1;32m     14\u001b[0m                 \u001b[0;32mfor\u001b[0m \u001b[0mn\u001b[0m \u001b[0;32min\u001b[0m \u001b[0mnumOfComps\u001b[0m\u001b[0;34m:\u001b[0m\u001b[0;34m\u001b[0m\u001b[0;34m\u001b[0m\u001b[0m\n\u001b[0;32m---> 15\u001b[0;31m                     \u001b[0mret\u001b[0m \u001b[0;34m=\u001b[0m \u001b[0mmodelAll1\u001b[0m\u001b[0;34m(\u001b[0m\u001b[0mdata2\u001b[0m\u001b[0;34m,\u001b[0m \u001b[0mt\u001b[0m\u001b[0;34m,\u001b[0m \u001b[0mi\u001b[0m\u001b[0;34m,\u001b[0m \u001b[0mj\u001b[0m\u001b[0;34m,\u001b[0m \u001b[0me\u001b[0m\u001b[0;34m,\u001b[0m \u001b[0mn\u001b[0m\u001b[0;34m)\u001b[0m\u001b[0;34m\u001b[0m\u001b[0;34m\u001b[0m\u001b[0m\n\u001b[0m\u001b[1;32m     16\u001b[0m                     \u001b[0mretVal\u001b[0m \u001b[0;34m=\u001b[0m \u001b[0mret\u001b[0m\u001b[0;34m[\u001b[0m\u001b[0;34m'cumulativeReturn'\u001b[0m\u001b[0;34m]\u001b[0m\u001b[0;34m.\u001b[0m\u001b[0miloc\u001b[0m\u001b[0;34m[\u001b[0m\u001b[0;34m-\u001b[0m\u001b[0;36m1\u001b[0m\u001b[0;34m]\u001b[0m\u001b[0;34m\u001b[0m\u001b[0;34m\u001b[0m\u001b[0m\n\u001b[1;32m     17\u001b[0m                     \u001b[0msolutions\u001b[0m \u001b[0;34m=\u001b[0m \u001b[0msolutions\u001b[0m\u001b[0;34m.\u001b[0m\u001b[0mappend\u001b[0m\u001b[0;34m(\u001b[0m\u001b[0;34m{\u001b[0m\u001b[0;34m'return'\u001b[0m\u001b[0;34m:\u001b[0m \u001b[0mretVal\u001b[0m\u001b[0;34m,\u001b[0m \u001b[0;34m'kernel'\u001b[0m\u001b[0;34m:\u001b[0m \u001b[0mt\u001b[0m\u001b[0;34m,\u001b[0m \u001b[0;34m'C'\u001b[0m\u001b[0;34m:\u001b[0m \u001b[0mi\u001b[0m\u001b[0;34m,\u001b[0m \u001b[0;34m'gamma'\u001b[0m\u001b[0;34m:\u001b[0m \u001b[0mj\u001b[0m\u001b[0;34m,\u001b[0m \u001b[0;34m'epsilon'\u001b[0m\u001b[0;34m:\u001b[0m \u001b[0me\u001b[0m\u001b[0;34m,\u001b[0m \u001b[0;34m'# of comps'\u001b[0m\u001b[0;34m:\u001b[0m \u001b[0mn\u001b[0m\u001b[0;34m}\u001b[0m\u001b[0;34m,\u001b[0m \u001b[0mignore_index\u001b[0m\u001b[0;34m=\u001b[0m\u001b[0;32mTrue\u001b[0m\u001b[0;34m)\u001b[0m\u001b[0;34m\u001b[0m\u001b[0;34m\u001b[0m\u001b[0m\n",
      "\u001b[0;31mNameError\u001b[0m: name 'data2' is not defined"
     ]
    }
   ],
   "source": [
    "#define kernel, c, gamma, epsilon and number of company values for parameter search space \n",
    "cVals =  [0.001, 0.1, 1, 5, 10]\n",
    "gammaVals =  [10, 1, 0.01, 'scale', 'auto_deprecated']\n",
    "kernelVals =['linear','rbf', 'sigmoid']\n",
    "epsilonVals = [0.001,0.1,1, 10]\n",
    "numOfComps = [10]\n",
    "#creating an empty Dataframe with column names only\n",
    "solutions = pd.DataFrame(columns=['return' ,'kernel', 'C', 'gamma', '# of comps'])\n",
    "#test different SVR parameters in the search space\n",
    "for t in kernelVals: \n",
    "    for i in cVals:\n",
    "        for j in gammaVals:\n",
    "            for e in epsilonVals:\n",
    "                for n in numOfComps:\n",
    "                    ret = modelAll1(data2, t, i, j, e, n)\n",
    "                    retVal = ret['cumulativeReturn'].iloc[-1]\n",
    "                    solutions = solutions.append({'return': retVal, 'kernel': t, 'C': i, 'gamma': j, 'epsilon': e, '# of comps': n}, ignore_index=True)\n",
    "                    #see where the for loop is. mine took about 50 minutes ((:\n",
    "                    print(t)\n",
    "                    print(i)\n",
    "                    print(j)\n",
    "                    print(e)\n",
    "                    print(n)"
   ]
  },
  {
   "cell_type": "code",
   "execution_count": null,
   "id": "b0b87189",
   "metadata": {},
   "outputs": [],
   "source": []
  },
  {
   "cell_type": "code",
   "execution_count": null,
   "id": "cd46c866",
   "metadata": {},
   "outputs": [],
   "source": []
  },
  {
   "cell_type": "code",
   "execution_count": null,
   "id": "d3a66fe6",
   "metadata": {},
   "outputs": [],
   "source": []
  }
 ],
 "metadata": {
  "kernelspec": {
   "display_name": "Python 3 (ipykernel)",
   "language": "python",
   "name": "python3"
  },
  "language_info": {
   "codemirror_mode": {
    "name": "ipython",
    "version": 3
   },
   "file_extension": ".py",
   "mimetype": "text/x-python",
   "name": "python",
   "nbconvert_exporter": "python",
   "pygments_lexer": "ipython3",
   "version": "3.9.7"
  }
 },
 "nbformat": 4,
 "nbformat_minor": 5
}

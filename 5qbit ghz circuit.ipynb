{
 "cells": [
  {
   "cell_type": "code",
   "execution_count": 2,
   "id": "8b7fba05",
   "metadata": {},
   "outputs": [
    {
     "data": {
      "text/html": [
       "<pre style=\"word-wrap: normal;white-space: pre;background: #fff0;line-height: 1.1;font-family: &quot;Courier New&quot;,Courier,monospace\">        ┌───┐                     ░ ┌─┐            \n",
       "   q_0: ┤ H ├──■────■────■────■───░─┤M├────────────\n",
       "        └───┘┌─┴─┐  │    │    │   ░ └╥┘┌─┐         \n",
       "   q_1: ─────┤ X ├──┼────┼────┼───░──╫─┤M├─────────\n",
       "             └───┘┌─┴─┐  │    │   ░  ║ └╥┘┌─┐      \n",
       "   q_2: ──────────┤ X ├──┼────┼───░──╫──╫─┤M├──────\n",
       "                  └───┘┌─┴─┐  │   ░  ║  ║ └╥┘┌─┐   \n",
       "   q_3: ───────────────┤ X ├──┼───░──╫──╫──╫─┤M├───\n",
       "                       └───┘┌─┴─┐ ░  ║  ║  ║ └╥┘┌─┐\n",
       "   q_4: ────────────────────┤ X ├─░──╫──╫──╫──╫─┤M├\n",
       "                            └───┘ ░  ║  ║  ║  ║ └╥┘\n",
       "meas: 5/═════════════════════════════╩══╩══╩══╩══╩═\n",
       "                                     0  1  2  3  4 </pre>"
      ],
      "text/plain": [
       "        ┌───┐                     ░ ┌─┐            \n",
       "   q_0: ┤ H ├──■────■────■────■───░─┤M├────────────\n",
       "        └───┘┌─┴─┐  │    │    │   ░ └╥┘┌─┐         \n",
       "   q_1: ─────┤ X ├──┼────┼────┼───░──╫─┤M├─────────\n",
       "             └───┘┌─┴─┐  │    │   ░  ║ └╥┘┌─┐      \n",
       "   q_2: ──────────┤ X ├──┼────┼───░──╫──╫─┤M├──────\n",
       "                  └───┘┌─┴─┐  │   ░  ║  ║ └╥┘┌─┐   \n",
       "   q_3: ───────────────┤ X ├──┼───░──╫──╫──╫─┤M├───\n",
       "                       └───┘┌─┴─┐ ░  ║  ║  ║ └╥┘┌─┐\n",
       "   q_4: ────────────────────┤ X ├─░──╫──╫──╫──╫─┤M├\n",
       "                            └───┘ ░  ║  ║  ║  ║ └╥┘\n",
       "meas: 5/═════════════════════════════╩══╩══╩══╩══╩═\n",
       "                                     0  1  2  3  4 "
      ]
     },
     "execution_count": 2,
     "metadata": {},
     "output_type": "execute_result"
    }
   ],
   "source": [
    "from qiskit import QuantumCircuit\n",
    "\n",
    "qc = QuantumCircuit(5)\n",
    "qc.h(0)\n",
    "qc.cx(0, range(1, 5))\n",
    "qc.measure_all()\n",
    "qc.draw()"
   ]
  },
  {
   "cell_type": "code",
   "execution_count": null,
   "id": "436ef28d",
   "metadata": {},
   "outputs": [],
   "source": []
  },
  {
   "cell_type": "code",
   "execution_count": null,
   "id": "84479898",
   "metadata": {},
   "outputs": [],
   "source": []
  }
 ],
 "metadata": {
  "kernelspec": {
   "display_name": "Python 3 (ipykernel)",
   "language": "python",
   "name": "python3"
  },
  "language_info": {
   "codemirror_mode": {
    "name": "ipython",
    "version": 3
   },
   "file_extension": ".py",
   "mimetype": "text/x-python",
   "name": "python",
   "nbconvert_exporter": "python",
   "pygments_lexer": "ipython3",
   "version": "3.9.7"
  }
 },
 "nbformat": 4,
 "nbformat_minor": 5
}

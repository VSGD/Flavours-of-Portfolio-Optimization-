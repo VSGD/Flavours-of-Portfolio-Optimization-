{
 "cells": [
  {
   "cell_type": "code",
   "execution_count": 1,
   "id": "a3ca350e",
   "metadata": {},
   "outputs": [],
   "source": [
    "#importing the required stuff\n",
    "from qiskit import Aer\n",
    "from qiskit.algorithms import VQE, QAOA, NumPyMinimumEigensolver\n",
    "from qiskit.algorithms.optimizers import COBYLA\n",
    "from qiskit.circuit.library import TwoLocal\n",
    "from qiskit.utils import QuantumInstance\n",
    "from qiskit_finance.applications.optimization import PortfolioOptimization\n",
    "from qiskit_finance.data_providers import *\n",
    "from qiskit_finance import QiskitFinanceError\n",
    "from qiskit_optimization.algorithms import MinimumEigenOptimizer\n",
    "from qiskit_optimization.applications import OptimizationApplication\n",
    "from qiskit_optimization.converters import QuadraticProgramToQubo\n",
    "from qiskit.visualization import plot_histogram\n",
    "from qiskit.visualization import plot_state_paulivec, plot_state_hinton\n",
    "import numpy as np\n",
    "import matplotlib.pyplot as plt\n",
    "from matplotlib import cm\n",
    "import datetime\n",
    "import pandas as pd\n",
    "import csv\n",
    "from pandas.plotting import register_matplotlib_converters\n",
    "register_matplotlib_converters()\n",
    "\n",
    "\n"
   ]
  },
  {
   "cell_type": "code",
   "execution_count": 2,
   "id": "1b6ad0d8",
   "metadata": {},
   "outputs": [],
   "source": [
    "%matplotlib inline"
   ]
  },
  {
   "cell_type": "code",
   "execution_count": 3,
   "id": "25cdcbc2",
   "metadata": {},
   "outputs": [],
   "source": [
    "# set number of assets (= number of qubits)\n",
    "num_assets = 5\n",
    "seed = 123\n",
    "\n",
    "# Using data from yahoo finance\n",
    "# use the name listed for particular company that you wish to add\n",
    "data = YahooDataProvider(\n",
    "        tickers=[\"AAPL\",\"INTC\",\"GOOG\",\"MSFT\",\"IBM\"],\n",
    "        start=datetime.datetime(2015, 9, 1),\n",
    "        end=datetime.datetime(2021, 12, 1),\n",
    "    )\n",
    "data.run()\n",
    "\n",
    "mu = data.get_period_return_mean_vector()\n",
    "sigma = data.get_period_return_covariance_matrix()"
   ]
  },
  {
   "cell_type": "code",
   "execution_count": 4,
   "id": "50530cf1",
   "metadata": {},
   "outputs": [
    {
     "data": {
      "image/png": "[encoded data removed]",
      "text/plain": [
       "<Figure size 432x288 with 1 Axes>"
      ]
     },
     "metadata": {
      "needs_background": "light"
     },
     "output_type": "display_data"
    }
   ],
   "source": [
    "# plot sigma\n",
    "plt.imshow(sigma, interpolation=\"nearest\")\n",
    "plt.show()\n"
   ]
  },
  {
   "cell_type": "code",
   "execution_count": 5,
   "id": "14567144",
   "metadata": {},
   "outputs": [
    {
     "data": {
      "text/plain": [
       "\\ This file has been generated by DOcplex\n",
       "\\ ENCODING=ISO-8859-1\n",
       "\\Problem name: Portfolio optimization\n",
       "\n",
       "Minimize\n",
       " obj: - 0.001349515637 x_0 - 0.000664322544 x_1 - 0.001105241391 x_2\n",
       "      - 0.001499037956 x_3 - 0.000183849731 x_4 + [ 0.000339643640 x_0^2\n",
       "      + 0.000404539310 x_0*x_1 + 0.000382632738 x_0*x_2 + 0.000435549968 x_0*x_3\n",
       "      + 0.000248020306 x_0*x_4 + 0.000420816739 x_1^2 + 0.000356761958 x_1*x_2\n",
       "      + 0.000427146528 x_1*x_3 + 0.000328640375 x_1*x_4 + 0.000268201090 x_2^2\n",
       "      + 0.000427082711 x_2*x_3 + 0.000242628080 x_2*x_4 + 0.000284701211 x_3^2\n",
       "      + 0.000268003222 x_3*x_4 + 0.000254636495 x_4^2 ]/2\n",
       "Subject To\n",
       " c0: x_0 + x_1 + x_2 + x_3 + x_4 = 1\n",
       "\n",
       "Bounds\n",
       " 0 <= x_0 <= 1\n",
       " 0 <= x_1 <= 1\n",
       " 0 <= x_2 <= 1\n",
       " 0 <= x_3 <= 1\n",
       " 0 <= x_4 <= 1\n",
       "\n",
       "Binaries\n",
       " x_0 x_1 x_2 x_3 x_4\n",
       "End"
      ]
     },
     "execution_count": 5,
     "metadata": {},
     "output_type": "execute_result"
    }
   ],
   "source": [
    "q = 0.5  # set risk factor\n",
    "budget = num_assets // 5  # set budget\n",
    "penalty = num_assets  # set parameter to scale the budget penalty term\n",
    "\n",
    "portfolio = PortfolioOptimization(\n",
    "    expected_returns=mu, covariances=sigma, risk_factor=q, budget=budget\n",
    ")\n",
    "qp = portfolio.to_quadratic_program()\n",
    "qp"
   ]
  },
  {
   "cell_type": "code",
   "execution_count": 31,
   "id": "e71dce01",
   "metadata": {},
   "outputs": [
    {
     "name": "stdout",
     "output_type": "stream",
     "text": [
      "\n",
      "----------------- Full result ---------------------\n",
      "selection\tvalue\t\tprobability\n",
      "---------------------------------------------------\n",
      "[0 1 0 0 0]\t-0.0005\t\t0.2793\n",
      "[0 0 0 0 1]\t-0.0001\t\t0.2792\n",
      "[1 0 0 0 0]\t-0.0012\t\t0.2638\n",
      "[0 0 1 0 0]\t-0.0010\t\t0.1776\n",
      "[0 0 1 0 1]\t1.0064\t\t0.0001\n",
      "[1 1 0 0 0]\t1.0059\t\t0.0000\n",
      "[0 1 0 0 1]\t1.0070\t\t0.0000\n",
      "[1 0 1 0 0]\t1.0054\t\t0.0000\n",
      "[1 0 0 1 0]\t1.0050\t\t0.0000\n",
      "[0 1 1 0 0]\t1.0061\t\t0.0000\n",
      "[0 0 1 1 0]\t1.0052\t\t0.0000\n",
      "[0 0 0 1 0]\t-0.0014\t\t0.0000\n",
      "[0 1 0 1 0]\t1.0057\t\t0.0000\n",
      "[1 1 1 0 0]\t4.0274\t\t0.0000\n",
      "[1 0 1 1 0]\t4.0265\t\t0.0000\n",
      "[1 0 1 0 1]\t4.0276\t\t0.0000\n",
      "[0 0 0 0 0]\t1.0073\t\t0.0000\n",
      "[0 1 1 1 1]\t9.0643\t\t0.0000\n",
      "[0 0 0 1 1]\t1.0061\t\t0.0000\n",
      "[1 0 0 0 1]\t1.0062\t\t0.0000\n",
      "[0 1 1 0 1]\t4.0284\t\t0.0000\n",
      "[0 0 1 1 1]\t4.0275\t\t0.0000\n",
      "[1 0 0 1 1]\t4.0273\t\t0.0000\n",
      "[1 1 1 1 0]\t9.0634\t\t0.0000\n",
      "[0 1 0 1 1]\t4.0280\t\t0.0000\n",
      "[0 1 1 1 0]\t4.0272\t\t0.0000\n",
      "[1 1 1 1 1]\t16.1153\t\t0.0000\n",
      "[1 1 0 0 1]\t4.0282\t\t0.0000\n",
      "[1 1 0 1 1]\t9.0641\t\t0.0000\n",
      "[1 1 0 1 0]\t4.0270\t\t0.0000\n",
      "[1 1 1 0 1]\t9.0644\t\t0.0000\n",
      "[1 0 1 1 1]\t9.0636\t\t0.0000\n"
     ]
    }
   ],
   "source": [
    "def index_to_selection(i, num_assets):\n",
    "    s = \"{0:b}\".format(i).rjust(num_assets)\n",
    "    x = np.array([1 if s[i] == \"1\" else 0 for i in reversed(range(num_assets))])\n",
    "    return x\n",
    "\n",
    "import csv\n",
    "   \n",
    "def print_result(result):\n",
    "    selection = result.x\n",
    "    value = result.fval\n",
    "    print(\"Optimal: selection {}, value {:.4f}\".format(selection, value))\n",
    "\n",
    "with open('test.csv', 'w') as csvfile:\n",
    "    header = ['Selection', 'Value', 'Probability']\n",
    "    writer = csv.writer(csvfile, delimiter=' ')\n",
    "    writer.writerow(header)\n",
    "        \n",
    "    eigenstate = result.min_eigen_solver_result.eigenstate\n",
    "    eigenvector = eigenstate if isinstance(eigenstate, np.ndarray) else eigenstate.to_matrix()\n",
    "    probabilities = np.abs(eigenvector) ** 2\n",
    "    i_sorted = reversed(np.argsort(probabilities))\n",
    "    print(\"\\n----------------- Full result ---------------------\")\n",
    "    print(\"selection\\tvalue\\t\\tprobability\")\n",
    "    print(\"---------------------------------------------------\")\n",
    "    for i in i_sorted:\n",
    "        x = index_to_selection(i, num_assets)\n",
    "        value = QuadraticProgramToQubo().convert(qp).objective.evaluate(x)\n",
    "        # value = portfolio.to_quadratic_program().objective.evaluate(x)\n",
    "        probability = probabilities[i]\n",
    "        writer.writerow([x, value, probability])\n",
    "        print(\"%10s\\t%.4f\\t\\t%.4f\" % (x, value, probability))\n",
    "        \n",
    "        \n",
    "csvfile.close()"
   ]
  },
  {
   "cell_type": "code",
   "execution_count": 32,
   "id": "95721b99",
   "metadata": {},
   "outputs": [
    {
     "name": "stdout",
     "output_type": "stream",
     "text": [
      "Optimal: selection [0. 0. 0. 1. 0.], value -0.0014\n",
      "CPU times: user 28.6 ms, sys: 4.31 ms, total: 32.9 ms\n",
      "Wall time: 28.6 ms\n"
     ]
    }
   ],
   "source": [
    "%%time\n",
    "\n",
    "#classical reference solution\n",
    "\n",
    "exact_mes = NumPyMinimumEigensolver()\n",
    "exact_eigensolver = MinimumEigenOptimizer(exact_mes)\n",
    "\n",
    "result = exact_eigensolver.solve(qp)\n",
    "\n",
    "print_result(result)\n",
    "\n"
   ]
  },
  {
   "cell_type": "code",
   "execution_count": 33,
   "id": "f0d47626",
   "metadata": {},
   "outputs": [
    {
     "name": "stdout",
     "output_type": "stream",
     "text": [
      "Optimal: selection [0. 0. 0. 1. 0.], value -0.0014\n",
      "CPU times: user 3.14 s, sys: 127 ms, total: 3.26 s\n",
      "Wall time: 3.25 s\n"
     ]
    }
   ],
   "source": [
    "%%time\n",
    "\n",
    "# VQE solution\n",
    "\n",
    "from qiskit.utils import algorithm_globals\n",
    "\n",
    "algorithm_globals.random_seed = 1234\n",
    "backend = Aer.get_backend(\"statevector_simulator\")\n",
    "\n",
    "cobyla = COBYLA()\n",
    "cobyla.set_options(maxiter=1000)\n",
    "ry = TwoLocal(num_assets, \"ry\", \"cz\", reps=3, entanglement=\"full\")\n",
    "quantum_instance = QuantumInstance(backend=backend, shots=10000, seed_simulator=seed, seed_transpiler=seed)\n",
    "vqe_mes = VQE(ry, optimizer=cobyla, quantum_instance=quantum_instance)\n",
    "vqe = MinimumEigenOptimizer(vqe_mes)\n",
    "result = vqe.solve(qp)\n",
    "\n",
    "print_result(result)\n",
    "    "
   ]
  },
  {
   "cell_type": "code",
   "execution_count": 34,
   "id": "e1e17bcb",
   "metadata": {},
   "outputs": [
    {
     "name": "stdout",
     "output_type": "stream",
     "text": [
      "Optimal: selection [0. 0. 0. 1. 0.], value -0.0014\n",
      "CPU times: user 3.99 s, sys: 134 ms, total: 4.12 s\n",
      "Wall time: 4.11 s\n"
     ]
    }
   ],
   "source": [
    "%%time\n",
    "\n",
    "# QAOA solution\n",
    "\n",
    "algorithm_globals.random_seed = 1234\n",
    "backend = Aer.get_backend(\"statevector_simulator\")\n",
    "\n",
    "cobyla = COBYLA()\n",
    "cobyla.set_options(maxiter=1000)\n",
    "quantum_instance = QuantumInstance(backend=backend, shots=10000, seed_simulator=seed, seed_transpiler=seed)\n",
    "qaoa_mes = QAOA(optimizer=cobyla, reps=3, quantum_instance=quantum_instance)\n",
    "qaoa = MinimumEigenOptimizer(qaoa_mes)\n",
    "result = qaoa.solve(qp)\n",
    "\n",
    "print_result(result)\n"
   ]
  },
  {
   "cell_type": "code",
   "execution_count": null,
   "id": "9c0de3f5",
   "metadata": {},
   "outputs": [],
   "source": []
  },
  {
   "cell_type": "code",
   "execution_count": null,
   "id": "6d81dee0",
   "metadata": {},
   "outputs": [],
   "source": []
  }
 ],
 "metadata": {
  "kernelspec": {
   "display_name": "Python 3 (ipykernel)",
   "language": "python",
   "name": "python3"
  },
  "language_info": {
   "codemirror_mode": {
    "name": "ipython",
    "version": 3
   },
   "file_extension": ".py",
   "mimetype": "text/x-python",
   "name": "python",
   "nbconvert_exporter": "python",
   "pygments_lexer": "ipython3",
   "version": "3.9.7"
  }
 },
 "nbformat": 4,
 "nbformat_minor": 5
}

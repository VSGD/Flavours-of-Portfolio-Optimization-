{
 "cells": [
  {
   "cell_type": "code",
   "execution_count": null,
   "id": "5e671e0c",
   "metadata": {},
   "outputs": [],
   "source": [
    "import numpy as np\n",
    "import pandas as pd\n",
    "import matplotlib.pyplot as plt\n",
    "from cvxpy import *\n"
   ]
  },
  {
   "cell_type": "code",
   "execution_count": null,
   "id": "a47eb320",
   "metadata": {},
   "outputs": [],
   "source": [
    "mp = pd.read_csv('/Users/vaidehi/Downloads/Kaggle/A2M.csv',index_col=0)\n",
    "mr = pd.DataFrame()"
   ]
  },
  {
   "cell_type": "code",
   "execution_count": null,
   "id": "b5473e5a",
   "metadata": {},
   "outputs": [],
   "source": [
    "mp.head()"
   ]
  },
  {
   "cell_type": "code",
   "execution_count": null,
   "id": "0c36977d",
   "metadata": {},
   "outputs": [],
   "source": [
    "plt.figure(figsize=(10,5))\n",
    "plt.plot([i for i in range(1,25)],mp['MSFT'],lw=3,marker='o',markersize=12)\n",
    "plt.plot([i for i in range(1,25)],mp['V'],lw=3,c='red',marker='^',markersize=12)\n",
    "plt.plot([i for i in range(1,25)],mp['WMT'],lw=3,marker='*',markersize=12)\n",
    "plt.legend(mp.columns,fontsize=16)\n",
    "plt.xlabel(\"Months\",fontsize=18)\n",
    "plt.ylabel(\"Stock price (Monthly average)\",fontsize=18)\n",
    "plt.xticks(fontsize=16)\n",
    "plt.yticks(fontsize=16)\n",
    "plt.grid(True)\n",
    "plt.show()"
   ]
  },
  {
   "cell_type": "code",
   "execution_count": null,
   "id": "98d725b0",
   "metadata": {},
   "outputs": [],
   "source": [
    "# compute monthly returns\n",
    "for s in mp.columns:\n",
    "    date = mp.index[0]\n",
    "    pr0 = mp[s][date] \n",
    "    for t in range(1,len(mp.index)):\n",
    "        date = mp.index[t]\n",
    "        pr1 = mp[s][date]\n",
    "        ret = (pr1-pr0)/pr0\n",
    "        mr.set_value(date,s,ret)\n",
    "        pr0 = pr1\n"
   ]
  },
  {
   "cell_type": "code",
   "execution_count": null,
   "id": "c961188c",
   "metadata": {},
   "outputs": [],
   "source": [
    "mr.head()"
   ]
  },
  {
   "cell_type": "code",
   "execution_count": null,
   "id": "99cc69cb",
   "metadata": {},
   "outputs": [],
   "source": [
    "# get symbol names\n",
    "symbols = mr.columns"
   ]
  },
  {
   "cell_type": "code",
   "execution_count": null,
   "id": "31221da3",
   "metadata": {},
   "outputs": [],
   "source": [
    "return_data = mr.as_matrix().T"
   ]
  },
  {
   "cell_type": "code",
   "execution_count": null,
   "id": "53ac896a",
   "metadata": {},
   "outputs": [],
   "source": [
    "plt.figure(figsize=(10,5))\n",
    "plt.plot([i for i in range(1,24)],100*mr['MSFT'],lw=3,marker='o',markersize=12)\n",
    "plt.plot([i for i in range(1,24)],100*mr['V'],lw=3,c='red',marker='^',markersize=12)\n",
    "plt.plot([i for i in range(1,24)],100*mr['WMT'],lw=3,marker='*',markersize=12)\n",
    "plt.legend(mp.columns,fontsize=16)\n",
    "plt.xlabel(\"Months\",fontsize=18)\n",
    "plt.ylabel(\"Monthly return (%))\",fontsize=18)\n",
    "plt.xticks(fontsize=16)\n",
    "plt.yticks(fontsize=16)\n",
    "plt.grid(True)\n",
    "plt.show()"
   ]
  },
  {
   "cell_type": "code",
   "execution_count": null,
   "id": "2682a0b2",
   "metadata": {},
   "outputs": [],
   "source": [
    "r = np.asarray(np.mean(return_data, axis=1))"
   ]
  },
  {
   "cell_type": "code",
   "execution_count": null,
   "id": "3c3e78c0",
   "metadata": {},
   "outputs": [],
   "source": [
    "C = np.asmatrix(np.cov(return_data))"
   ]
  },
  {
   "cell_type": "code",
   "execution_count": null,
   "id": "8205fb8c",
   "metadata": {},
   "outputs": [],
   "source": [
    "for j in range(len(symbols)):\n",
    "    print ('%s: Exp ret = %f, Risk = %f' %(symbols[j],r[j], C[j,j]**0.5))"
   ]
  },
  {
   "cell_type": "code",
   "execution_count": null,
   "id": "155bcc51",
   "metadata": {},
   "outputs": [],
   "source": [
    "# Number of variables\n",
    "n = len(symbols)\n",
    "\n",
    "# The variables vector\n",
    "x = Variable(n)\n",
    "\n",
    "# The minimum return\n",
    "req_return = 0.02\n",
    "\n",
    "# The return\n",
    "ret = r.T*x\n",
    "\n",
    "# The risk in xT.Q.x format\n",
    "risk = quad_form(x, C)\n",
    "\n",
    "# The core problem definition with the Problem class from CVXPY\n",
    "prob = Problem(Minimize(risk), [sum(x)==1, ret >= req_return, x >= 0])\n"
   ]
  },
  {
   "cell_type": "code",
   "execution_count": null,
   "id": "c1f99a82",
   "metadata": {},
   "outputs": [],
   "source": [
    "try:\n",
    "    prob.solve()\n",
    "    print (\"Optimal portfolio\")\n",
    "    print (\"----------------------\")\n",
    "    for s in range(len(symbols)):\n",
    "       print (\" Investment in {} : {}% of the portfolio\".format(symbols[s],round(100*x.value[s],2)))\n",
    "    print (\"----------------------\")\n",
    "    print (\"Exp ret = {}%\".format(round(100*ret.value,2)))\n",
    "    print (\"Expected risk    = {}%\".format(round(100*risk.value**0.5,2)))\n",
    "except:\n",
    "    print (\"Error\")"
   ]
  },
  {
   "cell_type": "code",
   "execution_count": null,
   "id": "788af345",
   "metadata": {},
   "outputs": [],
   "source": []
  }
 ],
 "metadata": {
  "kernelspec": {
   "display_name": "Python 3 (ipykernel)",
   "language": "python",
   "name": "python3"
  },
  "language_info": {
   "codemirror_mode": {
    "name": "ipython",
    "version": 3
   },
   "file_extension": ".py",
   "mimetype": "text/x-python",
   "name": "python",
   "nbconvert_exporter": "python",
   "pygments_lexer": "ipython3",
   "version": "3.9.7"
  }
 },
 "nbformat": 4,
 "nbformat_minor": 5
}

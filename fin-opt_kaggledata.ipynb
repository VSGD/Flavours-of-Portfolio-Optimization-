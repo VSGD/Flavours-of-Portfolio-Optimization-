{
 "cells": [
  {
   "cell_type": "code",
   "execution_count": 14,
   "id": "4ec8754c",
   "metadata": {},
   "outputs": [],
   "source": [
    "import os                               # Operating system\n",
    "import math                             # Mathematics\n",
    "import numpy as np                      # Arrays\n",
    "import pandas as pd                     # Dataframes\n",
    "import matplotlib.pyplot as plt         # Graphs\n",
    "from matplotlib import cm               # Colours\n",
    "import scipy                            # Scientific computing\n",
    "import cvxpy as cp                      # Convex optimisation\n",
    "import kaggle\n",
    "from kaggle.api.kaggle_api_extended import KaggleApi\n",
    "from mpl_toolkits.mplot3d import Axes3D # 3D graphs"
   ]
  },
  {
   "cell_type": "code",
   "execution_count": 15,
   "id": "4787a546",
   "metadata": {
    "scrolled": true
   },
   "outputs": [],
   "source": [
    "stocks = [stock.split('.')[0] for stock in sorted(os.listdir('/Users/vaidehi/Downloads/Kaggle/stock.csv'))]"
   ]
  },
  {
   "cell_type": "code",
   "execution_count": 16,
   "id": "33a85aaa",
   "metadata": {},
   "outputs": [],
   "source": [
    "dates = pd.date_range('01-01-2020', '31-03-2020') # Create date range from 01-01-2000 to 31-03-2020\n",
    "data = pd.DataFrame({'Time': dates})              # Add dates to dataframe with column name"
   ]
  },
  {
   "cell_type": "code",
   "execution_count": 17,
   "id": "7d05ac4e",
   "metadata": {},
   "outputs": [
    {
     "ename": "TypeError",
     "evalue": "'int' object is not iterable",
     "output_type": "error",
     "traceback": [
      "\u001b[0;31m---------------------------------------------------------------------------\u001b[0m",
      "\u001b[0;31mTypeError\u001b[0m                                 Traceback (most recent call last)",
      "\u001b[0;32m/var/folders/7w/zcgrmt251lv983y14r0jcl0h0000gp/T/ipykernel_46309/1185150802.py\u001b[0m in \u001b[0;36m<module>\u001b[0;34m\u001b[0m\n\u001b[0;32m----> 1\u001b[0;31m \u001b[0;32mfor\u001b[0m \u001b[0mstock\u001b[0m \u001b[0;32min\u001b[0m \u001b[0mstocks\u001b[0m\u001b[0;34m:\u001b[0m                                                          \u001b[0;31m# For each stock\u001b[0m\u001b[0;34m\u001b[0m\u001b[0;34m\u001b[0m\u001b[0m\n\u001b[0m\u001b[1;32m      2\u001b[0m     \u001b[0mprices\u001b[0m \u001b[0;34m=\u001b[0m \u001b[0mpd\u001b[0m\u001b[0;34m.\u001b[0m\u001b[0mread_csv\u001b[0m\u001b[0;34m(\u001b[0m\u001b[0;34m'/Users/vaidehi/Downloads/Kaggle/A2M.csv'\u001b[0m\u001b[0;34m,\u001b[0m \u001b[0musecols\u001b[0m\u001b[0;34m=\u001b[0m\u001b[0;34m[\u001b[0m\u001b[0;34m'Date'\u001b[0m\u001b[0;34m,\u001b[0m \u001b[0;34m'Adj Close'\u001b[0m\u001b[0;34m]\u001b[0m\u001b[0;34m)\u001b[0m\u001b[0;34m\u001b[0m\u001b[0;34m\u001b[0m\u001b[0m\n\u001b[1;32m      3\u001b[0m     \u001b[0mprices\u001b[0m\u001b[0;34m[\u001b[0m\u001b[0;34m'Date'\u001b[0m\u001b[0;34m]\u001b[0m \u001b[0;34m=\u001b[0m \u001b[0mpd\u001b[0m\u001b[0;34m.\u001b[0m\u001b[0mto_datetime\u001b[0m\u001b[0;34m(\u001b[0m\u001b[0mprices\u001b[0m\u001b[0;34m[\u001b[0m\u001b[0;34m'Date'\u001b[0m\u001b[0;34m]\u001b[0m\u001b[0;34m)\u001b[0m                           \u001b[0;31m# Typecast dates to datetimes\u001b[0m\u001b[0;34m\u001b[0m\u001b[0;34m\u001b[0m\u001b[0m\n\u001b[1;32m      4\u001b[0m     prices.rename(                                                            # Rename columns\n\u001b[1;32m      5\u001b[0m         \u001b[0mcolumns\u001b[0m\u001b[0;34m=\u001b[0m\u001b[0;34m{\u001b[0m\u001b[0;34m\"Date\"\u001b[0m\u001b[0;34m:\u001b[0m \u001b[0;34m\"Time\"\u001b[0m\u001b[0;34m,\u001b[0m \u001b[0;34m\"Adj Close\"\u001b[0m\u001b[0;34m:\u001b[0m \u001b[0mstock\u001b[0m\u001b[0;34m}\u001b[0m\u001b[0;34m,\u001b[0m\u001b[0;34m\u001b[0m\u001b[0;34m\u001b[0m\u001b[0m\n",
      "\u001b[0;31mTypeError\u001b[0m: 'int' object is not iterable"
     ]
    }
   ],
   "source": [
    "for stock in stocks:                                                          # For each stock\n",
    "    prices = pd.read_csv(                                                     # Read prices into dataframe\n",
    "        '/kaggle/input/australian-historical-stock-prices/' + stock + '.csv', # Get filename\n",
    "        usecols=['Date', 'Adj Close']                                         # Select date and adjusted closing price\n",
    "    )\n",
    "    prices['Date'] = pd.to_datetime(prices['Date'])                           # Typecast dates to datetimes\n",
    "    prices.rename(                                                            # Rename columns\n",
    "        columns={\"Date\": \"Time\", \"Adj Close\": stock},\n",
    "        inplace=True\n",
    "    )\n",
    "    data = pd.merge(                                                          # Add stock to master dataframe\n",
    "        data,                                                                 # Initially contains dates only\n",
    "        prices,                                                               # Insert stock prices\n",
    "        how='left',                                                           # Left outer join\n",
    "        on=['Time'],                                                          # Key on the time column\n",
    "        sort=False\n",
    "    )"
   ]
  },
  {
   "cell_type": "markdown",
   "id": "6f56346b",
   "metadata": {},
   "source": [
    "## dates = pd.date_range('2000-01-01', '2020-03-31') # Create date range from 01-01-2000 to 31-03-2020\n",
    "data = pd.DataFrame({'Time': dates})              # Add dates to dataframe with column name\n",
    "\n",
    "for stock in stocks:                                                          # For each stock\n",
    "    prices = pd.read_csv(                                                     # Read prices into dataframe\n",
    "        '/kaggle/input/australian-historical-stock-prices/' + stock + '.csv', # Get filename\n",
    "        usecols=['Date', 'Adj Close']                                         # Select date and adjusted closing price\n",
    "    )\n",
    "    prices['Date'] = pd.to_datetime(prices['Date'])                           # Typecast dates to datetimes\n",
    "    prices.rename(                                                            # Rename columns\n",
    "        columns={\"Date\": \"Time\", \"Adj Close\": stock},\n",
    "        inplace=True\n",
    "    )\n",
    "    data = pd.merge(                                                          # Add stock to master dataframe\n",
    "        data,                                                                 # Initially contains dates only\n",
    "        prices,                                                               # Insert stock prices\n",
    "        how='left',                                                           # Left outer join\n",
    "        on=['Time'],                                                          # Key on the time column\n",
    "        sort=False\n",
    "    )"
   ]
  },
  {
   "cell_type": "code",
   "execution_count": 14,
   "id": "c7fb06f7",
   "metadata": {},
   "outputs": [],
   "source": [
    "data = data[data['Time'].dt.weekday < 5] # Remove weekend dates\n",
    "data = data.dropna(axis=0, how='all') # Remove empty rows"
   ]
  },
  {
   "cell_type": "code",
   "execution_count": 15,
   "id": "187ef71c",
   "metadata": {},
   "outputs": [
    {
     "ename": "IndentationError",
     "evalue": "unexpected indent (1648789688.py, line 2)",
     "output_type": "error",
     "traceback": [
      "\u001b[0;36m  File \u001b[0;32m\"/var/folders/7w/zcgrmt251lv983y14r0jcl0h0000gp/T/ipykernel_16295/1648789688.py\"\u001b[0;36m, line \u001b[0;32m2\u001b[0m\n\u001b[0;31m    .drop(['Time'], axis=1)\u001b[0m\n\u001b[0m    ^\u001b[0m\n\u001b[0;31mIndentationError\u001b[0m\u001b[0;31m:\u001b[0m unexpected indent\n"
     ]
    }
   ],
   "source": [
    "p = data\n",
    "    .drop(['Time'], axis=1) \n",
    "    .tail(1) \n",
    "    .to_numpy()"
   ]
  },
  {
   "cell_type": "code",
   "execution_count": 16,
   "id": "f8cca3e9",
   "metadata": {},
   "outputs": [],
   "source": [
    "r = data[(data['Time'].dt.weekday == 4) & (data['Time'] >= '2019-01-01')] \\\n",
    "    .drop(['Time'], axis=1) \\\n",
    "    .pct_change(fill_method='ffill')"
   ]
  },
  {
   "cell_type": "code",
   "execution_count": 17,
   "id": "41abf8ab",
   "metadata": {},
   "outputs": [],
   "source": [
    "sigma = r.cov().to_numpy()\n",
    "mu = r.mean().to_numpy()"
   ]
  },
  {
   "cell_type": "code",
   "execution_count": 18,
   "id": "d6b993a2",
   "metadata": {},
   "outputs": [
    {
     "ename": "NameError",
     "evalue": "name 'stocks' is not defined",
     "output_type": "error",
     "traceback": [
      "\u001b[0;31m---------------------------------------------------------------------------\u001b[0m",
      "\u001b[0;31mNameError\u001b[0m                                 Traceback (most recent call last)",
      "\u001b[0;32m/var/folders/7w/zcgrmt251lv983y14r0jcl0h0000gp/T/ipykernel_16295/3426511193.py\u001b[0m in \u001b[0;36m<module>\u001b[0;34m\u001b[0m\n\u001b[0;32m----> 1\u001b[0;31m \u001b[0mn\u001b[0m \u001b[0;34m=\u001b[0m \u001b[0mlen\u001b[0m\u001b[0;34m(\u001b[0m\u001b[0mstocks\u001b[0m\u001b[0;34m)\u001b[0m\u001b[0;34m\u001b[0m\u001b[0;34m\u001b[0m\u001b[0m\n\u001b[0m",
      "\u001b[0;31mNameError\u001b[0m: name 'stocks' is not defined"
     ]
    }
   ],
   "source": [
    "n = len(stocks)"
   ]
  },
  {
   "cell_type": "code",
   "execution_count": 19,
   "id": "5ec088e9",
   "metadata": {},
   "outputs": [
    {
     "ename": "NameError",
     "evalue": "name 'n' is not defined",
     "output_type": "error",
     "traceback": [
      "\u001b[0;31m---------------------------------------------------------------------------\u001b[0m",
      "\u001b[0;31mNameError\u001b[0m                                 Traceback (most recent call last)",
      "\u001b[0;32m/var/folders/7w/zcgrmt251lv983y14r0jcl0h0000gp/T/ipykernel_16295/1451940328.py\u001b[0m in \u001b[0;36m<module>\u001b[0;34m\u001b[0m\n\u001b[0;32m----> 1\u001b[0;31m \u001b[0mx\u001b[0m \u001b[0;34m=\u001b[0m \u001b[0mcp\u001b[0m\u001b[0;34m.\u001b[0m\u001b[0mVariable\u001b[0m\u001b[0;34m(\u001b[0m\u001b[0mshape\u001b[0m\u001b[0;34m=\u001b[0m\u001b[0mn\u001b[0m\u001b[0;34m,\u001b[0m \u001b[0minteger\u001b[0m\u001b[0;34m=\u001b[0m\u001b[0;32mTrue\u001b[0m\u001b[0;34m)\u001b[0m\u001b[0;34m\u001b[0m\u001b[0;34m\u001b[0m\u001b[0m\n\u001b[0m\u001b[1;32m      2\u001b[0m \u001b[0mthreshold\u001b[0m \u001b[0;34m=\u001b[0m \u001b[0mcp\u001b[0m\u001b[0;34m.\u001b[0m\u001b[0mParameter\u001b[0m\u001b[0;34m(\u001b[0m\u001b[0mnonneg\u001b[0m\u001b[0;34m=\u001b[0m\u001b[0;32mTrue\u001b[0m\u001b[0;34m)\u001b[0m \u001b[0;31m# maximum portfolio variance\u001b[0m\u001b[0;34m\u001b[0m\u001b[0;34m\u001b[0m\u001b[0m\n\u001b[1;32m      3\u001b[0m \u001b[0mk\u001b[0m \u001b[0;34m=\u001b[0m \u001b[0mcp\u001b[0m\u001b[0;34m.\u001b[0m\u001b[0mParameter\u001b[0m\u001b[0;34m(\u001b[0m\u001b[0mnonneg\u001b[0m\u001b[0;34m=\u001b[0m\u001b[0;32mTrue\u001b[0m\u001b[0;34m)\u001b[0m \u001b[0;31m# maximum allocation into one stock\u001b[0m\u001b[0;34m\u001b[0m\u001b[0;34m\u001b[0m\u001b[0m\n",
      "\u001b[0;31mNameError\u001b[0m: name 'n' is not defined"
     ]
    }
   ],
   "source": [
    "x = cp.Variable(shape=n, integer=True)\n",
    "threshold = cp.Parameter(nonneg=True) # maximum portfolio variance\n",
    "k = cp.Parameter(nonneg=True) # maximum allocation into one stock"
   ]
  },
  {
   "cell_type": "code",
   "execution_count": 39,
   "id": "0e5a1b39",
   "metadata": {},
   "outputs": [
    {
     "ename": "NameError",
     "evalue": "name 'x' is not defined",
     "output_type": "error",
     "traceback": [
      "\u001b[0;31m---------------------------------------------------------------------------\u001b[0m",
      "\u001b[0;31mNameError\u001b[0m                                 Traceback (most recent call last)",
      "\u001b[0;32m/var/folders/7w/zcgrmt251lv983y14r0jcl0h0000gp/T/ipykernel_41759/882778487.py\u001b[0m in \u001b[0;36m<module>\u001b[0;34m\u001b[0m\n\u001b[0;32m----> 1\u001b[0;31m \u001b[0mmean\u001b[0m \u001b[0;34m=\u001b[0m \u001b[0mmu\u001b[0m\u001b[0;34m.\u001b[0m\u001b[0mT\u001b[0m\u001b[0;34m*\u001b[0m\u001b[0mx\u001b[0m\u001b[0;34m\u001b[0m\u001b[0;34m\u001b[0m\u001b[0m\n\u001b[0m\u001b[1;32m      2\u001b[0m \u001b[0mvariance\u001b[0m \u001b[0;34m=\u001b[0m \u001b[0mcp\u001b[0m\u001b[0;34m.\u001b[0m\u001b[0mquad_form\u001b[0m\u001b[0;34m(\u001b[0m\u001b[0mx\u001b[0m\u001b[0;34m,\u001b[0m \u001b[0msigma\u001b[0m\u001b[0;34m)\u001b[0m\u001b[0;34m\u001b[0m\u001b[0;34m\u001b[0m\u001b[0m\n",
      "\u001b[0;31mNameError\u001b[0m: name 'x' is not defined"
     ]
    }
   ],
   "source": [
    "mean = mu.T*x\n",
    "variance = cp.quad_form(x, sigma)"
   ]
  },
  {
   "cell_type": "code",
   "execution_count": 40,
   "id": "67a63ead",
   "metadata": {},
   "outputs": [
    {
     "ename": "NameError",
     "evalue": "name 'mean' is not defined",
     "output_type": "error",
     "traceback": [
      "\u001b[0;31m---------------------------------------------------------------------------\u001b[0m",
      "\u001b[0;31mNameError\u001b[0m                                 Traceback (most recent call last)",
      "\u001b[0;32m/var/folders/7w/zcgrmt251lv983y14r0jcl0h0000gp/T/ipykernel_41759/36326813.py\u001b[0m in \u001b[0;36m<module>\u001b[0;34m\u001b[0m\n\u001b[0;32m----> 1\u001b[0;31m \u001b[0mobjective\u001b[0m \u001b[0;34m=\u001b[0m \u001b[0mcp\u001b[0m\u001b[0;34m.\u001b[0m\u001b[0mMaximize\u001b[0m\u001b[0;34m(\u001b[0m\u001b[0mmean\u001b[0m\u001b[0;34m)\u001b[0m\u001b[0;34m\u001b[0m\u001b[0;34m\u001b[0m\u001b[0m\n\u001b[0m",
      "\u001b[0;31mNameError\u001b[0m: name 'mean' is not defined"
     ]
    }
   ],
   "source": [
    "objective = cp.Maximize(mean)"
   ]
  },
  {
   "cell_type": "code",
   "execution_count": 41,
   "id": "51554cb2",
   "metadata": {},
   "outputs": [
    {
     "ename": "NameError",
     "evalue": "name 'x' is not defined",
     "output_type": "error",
     "traceback": [
      "\u001b[0;31m---------------------------------------------------------------------------\u001b[0m",
      "\u001b[0;31mNameError\u001b[0m                                 Traceback (most recent call last)",
      "\u001b[0;32m/var/folders/7w/zcgrmt251lv983y14r0jcl0h0000gp/T/ipykernel_41759/3719484824.py\u001b[0m in \u001b[0;36m<module>\u001b[0;34m\u001b[0m\n\u001b[1;32m      1\u001b[0m constraints = [\n\u001b[0;32m----> 2\u001b[0;31m     \u001b[0mx\u001b[0m \u001b[0;34m>=\u001b[0m \u001b[0;36m0\u001b[0m\u001b[0;34m,\u001b[0m                                 \u001b[0;31m# no shorting\u001b[0m\u001b[0;34m\u001b[0m\u001b[0;34m\u001b[0m\u001b[0m\n\u001b[0m\u001b[1;32m      3\u001b[0m     \u001b[0mvariance\u001b[0m \u001b[0;34m<=\u001b[0m \u001b[0mthreshold\u001b[0m                   \u001b[0;31m# upper bound on portfolio variance\u001b[0m\u001b[0;34m\u001b[0m\u001b[0;34m\u001b[0m\u001b[0m\n\u001b[1;32m      4\u001b[0m ]\n\u001b[1;32m      5\u001b[0m \u001b[0;32mfor\u001b[0m \u001b[0mpi\u001b[0m \u001b[0;32min\u001b[0m \u001b[0mp\u001b[0m\u001b[0;34m:\u001b[0m\u001b[0;34m\u001b[0m\u001b[0;34m\u001b[0m\u001b[0m\n",
      "\u001b[0;31mNameError\u001b[0m: name 'x' is not defined"
     ]
    }
   ],
   "source": [
    "constraints = [\n",
    "    x >= 0,                                 # no shorting\n",
    "    variance <= threshold                   # upper bound on portfolio variance\n",
    "]\n",
    "for pi in p:\n",
    "    constraints = constraints + [pi*x <= k] # upper bound on single-stock allocation"
   ]
  },
  {
   "cell_type": "code",
   "execution_count": 42,
   "id": "d4f1131d",
   "metadata": {},
   "outputs": [
    {
     "ename": "NameError",
     "evalue": "name 'objective' is not defined",
     "output_type": "error",
     "traceback": [
      "\u001b[0;31m---------------------------------------------------------------------------\u001b[0m",
      "\u001b[0;31mNameError\u001b[0m                                 Traceback (most recent call last)",
      "\u001b[0;32m/var/folders/7w/zcgrmt251lv983y14r0jcl0h0000gp/T/ipykernel_41759/1564708244.py\u001b[0m in \u001b[0;36m<module>\u001b[0;34m\u001b[0m\n\u001b[0;32m----> 1\u001b[0;31m \u001b[0mproblem\u001b[0m \u001b[0;34m=\u001b[0m \u001b[0mcp\u001b[0m\u001b[0;34m.\u001b[0m\u001b[0mProblem\u001b[0m\u001b[0;34m(\u001b[0m\u001b[0mobjective\u001b[0m\u001b[0;34m,\u001b[0m \u001b[0mconstraints\u001b[0m\u001b[0;34m)\u001b[0m\u001b[0;34m\u001b[0m\u001b[0;34m\u001b[0m\u001b[0m\n\u001b[0m",
      "\u001b[0;31mNameError\u001b[0m: name 'objective' is not defined"
     ]
    }
   ],
   "source": [
    "problem = cp.Problem(objective, constraints)"
   ]
  },
  {
   "cell_type": "code",
   "execution_count": 43,
   "id": "60f6536e",
   "metadata": {},
   "outputs": [
    {
     "ename": "NameError",
     "evalue": "name 'threshold' is not defined",
     "output_type": "error",
     "traceback": [
      "\u001b[0;31m---------------------------------------------------------------------------\u001b[0m",
      "\u001b[0;31mNameError\u001b[0m                                 Traceback (most recent call last)",
      "\u001b[0;32m/var/folders/7w/zcgrmt251lv983y14r0jcl0h0000gp/T/ipykernel_41759/1512001149.py\u001b[0m in \u001b[0;36m<module>\u001b[0;34m\u001b[0m\n\u001b[1;32m      4\u001b[0m \u001b[0;32mfor\u001b[0m \u001b[0mthreshold_value\u001b[0m \u001b[0;32min\u001b[0m \u001b[0mthreshold_values\u001b[0m\u001b[0;34m:\u001b[0m\u001b[0;34m\u001b[0m\u001b[0;34m\u001b[0m\u001b[0m\n\u001b[1;32m      5\u001b[0m     \u001b[0;32mfor\u001b[0m \u001b[0mk_value\u001b[0m \u001b[0;32min\u001b[0m \u001b[0mk_values\u001b[0m\u001b[0;34m:\u001b[0m\u001b[0;34m\u001b[0m\u001b[0;34m\u001b[0m\u001b[0m\n\u001b[0;32m----> 6\u001b[0;31m         \u001b[0mthreshold\u001b[0m\u001b[0;34m.\u001b[0m\u001b[0mvalue\u001b[0m \u001b[0;34m=\u001b[0m \u001b[0mthreshold_value\u001b[0m\u001b[0;34m\u001b[0m\u001b[0;34m\u001b[0m\u001b[0m\n\u001b[0m\u001b[1;32m      7\u001b[0m         \u001b[0mk\u001b[0m\u001b[0;34m.\u001b[0m\u001b[0mvalue\u001b[0m \u001b[0;34m=\u001b[0m \u001b[0mk_value\u001b[0m\u001b[0;34m\u001b[0m\u001b[0;34m\u001b[0m\u001b[0m\n\u001b[1;32m      8\u001b[0m         \u001b[0mproblem\u001b[0m\u001b[0;34m.\u001b[0m\u001b[0msolve\u001b[0m\u001b[0;34m(\u001b[0m\u001b[0;34m)\u001b[0m\u001b[0;34m\u001b[0m\u001b[0;34m\u001b[0m\u001b[0m\n",
      "\u001b[0;31mNameError\u001b[0m: name 'threshold' is not defined"
     ]
    }
   ],
   "source": [
    "z_values = []\n",
    "k_values = np.arange(1000, 5000, 1000)\n",
    "threshold_values = np.arange(1, 5.5, 0.5)\n",
    "for threshold_value in threshold_values:\n",
    "    for k_value in k_values:\n",
    "        threshold.value = threshold_value\n",
    "        k.value = k_value\n",
    "        problem.solve()\n",
    "        if problem.status != 'optimal': continue\n",
    "        counts = x.value.round()\n",
    "        investments = p*counts\n",
    "        returns = mu@investments[0]\n",
    "        z_values.append(returns)"
   ]
  },
  {
   "cell_type": "code",
   "execution_count": 44,
   "id": "06dc2708",
   "metadata": {},
   "outputs": [
    {
     "name": "stdout",
     "output_type": "stream",
     "text": [
      "No optimal solutions\n"
     ]
    }
   ],
   "source": [
    "if len(z_values) == 0:\n",
    "    print('No optimal solutions')\n",
    "else:\n",
    "    Z = np.reshape(z_values, (len(k_values), len(threshold_values)))\n",
    "    figure = plt.figure(figsize = (12,10))\n",
    "    axes = figure.add_subplot(111, projection='3d')\n",
    "    for i in range(len(k_values))[::-1]:\n",
    "        c = cm.jet(i/float(len(k_values)))\n",
    "        axes.bar(\n",
    "            threshold_values,\n",
    "            Z[i,:],\n",
    "            zs=k_values[i],\n",
    "            zdir='y',\n",
    "            width=0.4\n",
    "        )\n",
    "    axes.set_xlabel('Portfolio variance')\n",
    "    axes.set_ylabel('Maximum single-asset allocation')\n",
    "    axes.set_zlabel('Portfolio return')\n",
    "    axes.set_title('Expected portfolio return vs. portfolio variance and maximum single-asset allocation')\n",
    "    plt.show()"
   ]
  },
  {
   "cell_type": "code",
   "execution_count": 45,
   "id": "8d7f048f",
   "metadata": {},
   "outputs": [
    {
     "ename": "NameError",
     "evalue": "name 'stocks' is not defined",
     "output_type": "error",
     "traceback": [
      "\u001b[0;31m---------------------------------------------------------------------------\u001b[0m",
      "\u001b[0;31mNameError\u001b[0m                                 Traceback (most recent call last)",
      "\u001b[0;32m/var/folders/7w/zcgrmt251lv983y14r0jcl0h0000gp/T/ipykernel_41759/196028745.py\u001b[0m in \u001b[0;36m<module>\u001b[0;34m\u001b[0m\n\u001b[0;32m----> 1\u001b[0;31m \u001b[0mstocks_optimal\u001b[0m \u001b[0;34m=\u001b[0m \u001b[0mnp\u001b[0m\u001b[0;34m.\u001b[0m\u001b[0marray\u001b[0m\u001b[0;34m(\u001b[0m\u001b[0mstocks\u001b[0m\u001b[0;34m)\u001b[0m\u001b[0;34m[\u001b[0m\u001b[0mnp\u001b[0m\u001b[0;34m.\u001b[0m\u001b[0mwhere\u001b[0m\u001b[0;34m(\u001b[0m\u001b[0mcounts\u001b[0m \u001b[0;34m>\u001b[0m \u001b[0;36m0\u001b[0m\u001b[0;34m)\u001b[0m\u001b[0;34m]\u001b[0m\u001b[0;34m\u001b[0m\u001b[0;34m\u001b[0m\u001b[0m\n\u001b[0m\u001b[1;32m      2\u001b[0m \u001b[0mcounts_optimal\u001b[0m \u001b[0;34m=\u001b[0m \u001b[0mcounts\u001b[0m\u001b[0;34m[\u001b[0m\u001b[0mcounts\u001b[0m\u001b[0;34m>\u001b[0m\u001b[0;36m0\u001b[0m\u001b[0;34m]\u001b[0m\u001b[0;34m\u001b[0m\u001b[0;34m\u001b[0m\u001b[0m\n\u001b[1;32m      3\u001b[0m \u001b[0mprices_optimal\u001b[0m \u001b[0;34m=\u001b[0m \u001b[0mnp\u001b[0m\u001b[0;34m.\u001b[0m\u001b[0maround\u001b[0m\u001b[0;34m(\u001b[0m\u001b[0mnp\u001b[0m\u001b[0;34m.\u001b[0m\u001b[0marray\u001b[0m\u001b[0;34m(\u001b[0m\u001b[0mp\u001b[0m\u001b[0;34m)\u001b[0m\u001b[0;34m,\u001b[0m \u001b[0;36m2\u001b[0m\u001b[0;34m)\u001b[0m\u001b[0;34m[\u001b[0m\u001b[0;36m0\u001b[0m\u001b[0;34m]\u001b[0m\u001b[0;34m[\u001b[0m\u001b[0mnp\u001b[0m\u001b[0;34m.\u001b[0m\u001b[0mwhere\u001b[0m\u001b[0;34m(\u001b[0m\u001b[0mcounts\u001b[0m \u001b[0;34m>\u001b[0m \u001b[0;36m0\u001b[0m\u001b[0;34m)\u001b[0m\u001b[0;34m]\u001b[0m\u001b[0;34m\u001b[0m\u001b[0;34m\u001b[0m\u001b[0m\n\u001b[1;32m      4\u001b[0m \u001b[0minvestments_optimal\u001b[0m \u001b[0;34m=\u001b[0m \u001b[0mnp\u001b[0m\u001b[0;34m.\u001b[0m\u001b[0maround\u001b[0m\u001b[0;34m(\u001b[0m\u001b[0minvestments\u001b[0m\u001b[0;34m,\u001b[0m \u001b[0;36m2\u001b[0m\u001b[0;34m)\u001b[0m\u001b[0;34m[\u001b[0m\u001b[0minvestments\u001b[0m \u001b[0;34m>\u001b[0m \u001b[0;36m0\u001b[0m\u001b[0;34m]\u001b[0m\u001b[0;34m\u001b[0m\u001b[0;34m\u001b[0m\u001b[0m\n\u001b[1;32m      5\u001b[0m \u001b[0mcapital_optimal\u001b[0m \u001b[0;34m=\u001b[0m \u001b[0mnp\u001b[0m\u001b[0;34m.\u001b[0m\u001b[0maround\u001b[0m\u001b[0;34m(\u001b[0m\u001b[0mcounts_optimal\u001b[0m\u001b[0;34m@\u001b[0m\u001b[0mprices_optimal\u001b[0m\u001b[0;34m,\u001b[0m \u001b[0;36m2\u001b[0m\u001b[0;34m)\u001b[0m\u001b[0;34m\u001b[0m\u001b[0;34m\u001b[0m\u001b[0m\n",
      "\u001b[0;31mNameError\u001b[0m: name 'stocks' is not defined"
     ]
    }
   ],
   "source": [
    "stocks_optimal = np.array(stocks)[np.where(counts > 0)]\n",
    "counts_optimal = counts[counts>0]\n",
    "prices_optimal = np.around(np.array(p), 2)[0][np.where(counts > 0)]\n",
    "investments_optimal = np.around(investments, 2)[investments > 0]\n",
    "capital_optimal = np.around(counts_optimal@prices_optimal, 2)\n",
    "risk_optimal = np.around(counts.T@sigma@counts, 2)\n",
    "return_optimal = np.around(52*returns/capital_optimal, 3)"
   ]
  },
  {
   "cell_type": "code",
   "execution_count": 46,
   "id": "f2489f60",
   "metadata": {},
   "outputs": [
    {
     "ename": "NameError",
     "evalue": "name 'stocks_optimal' is not defined",
     "output_type": "error",
     "traceback": [
      "\u001b[0;31m---------------------------------------------------------------------------\u001b[0m",
      "\u001b[0;31mNameError\u001b[0m                                 Traceback (most recent call last)",
      "\u001b[0;32m/var/folders/7w/zcgrmt251lv983y14r0jcl0h0000gp/T/ipykernel_41759/735174316.py\u001b[0m in \u001b[0;36m<module>\u001b[0;34m\u001b[0m\n\u001b[0;32m----> 1\u001b[0;31m \u001b[0mprint\u001b[0m\u001b[0;34m(\u001b[0m\u001b[0;34m'Stocks:\\t\\t'\u001b[0m\u001b[0;34m,\u001b[0m \u001b[0mstocks_optimal\u001b[0m\u001b[0;34m)\u001b[0m\u001b[0;34m\u001b[0m\u001b[0;34m\u001b[0m\u001b[0m\n\u001b[0m\u001b[1;32m      2\u001b[0m \u001b[0mprint\u001b[0m\u001b[0;34m(\u001b[0m\u001b[0;34m'Counts:\\t\\t'\u001b[0m\u001b[0;34m,\u001b[0m \u001b[0mcounts_optimal\u001b[0m\u001b[0;34m)\u001b[0m\u001b[0;34m\u001b[0m\u001b[0;34m\u001b[0m\u001b[0m\n\u001b[1;32m      3\u001b[0m \u001b[0mprint\u001b[0m\u001b[0;34m(\u001b[0m\u001b[0;34m'Prices:\\t\\t'\u001b[0m\u001b[0;34m,\u001b[0m \u001b[0mprices_optimal\u001b[0m\u001b[0;34m)\u001b[0m\u001b[0;34m\u001b[0m\u001b[0;34m\u001b[0m\u001b[0m\n\u001b[1;32m      4\u001b[0m \u001b[0mprint\u001b[0m\u001b[0;34m(\u001b[0m\u001b[0;34m'Investments:\\t'\u001b[0m\u001b[0;34m,\u001b[0m \u001b[0minvestments_optimal\u001b[0m\u001b[0;34m)\u001b[0m\u001b[0;34m\u001b[0m\u001b[0;34m\u001b[0m\u001b[0m\n\u001b[1;32m      5\u001b[0m \u001b[0mprint\u001b[0m\u001b[0;34m(\u001b[0m\u001b[0;34m'Capital:\\t'\u001b[0m\u001b[0;34m,\u001b[0m \u001b[0mcapital_optimal\u001b[0m\u001b[0;34m)\u001b[0m\u001b[0;34m\u001b[0m\u001b[0;34m\u001b[0m\u001b[0m\n",
      "\u001b[0;31mNameError\u001b[0m: name 'stocks_optimal' is not defined"
     ]
    }
   ],
   "source": [
    "print('Stocks:\\t\\t', stocks_optimal)\n",
    "print('Counts:\\t\\t', counts_optimal)\n",
    "print('Prices:\\t\\t', prices_optimal)\n",
    "print('Investments:\\t', investments_optimal)\n",
    "print('Capital:\\t', capital_optimal)\n",
    "print('Return:\\t\\t', return_optimal)\n",
    "print('Risk:\\t\\t', risk_optimal)"
   ]
  },
  {
   "cell_type": "code",
   "execution_count": null,
   "id": "9d5a49e6",
   "metadata": {},
   "outputs": [],
   "source": []
  },
  {
   "cell_type": "code",
   "execution_count": null,
   "id": "8a91cb35",
   "metadata": {},
   "outputs": [],
   "source": []
  }
 ],
 "metadata": {
  "kernelspec": {
   "display_name": "Python 3 (ipykernel)",
   "language": "python",
   "name": "python3"
  },
  "language_info": {
   "codemirror_mode": {
    "name": "ipython",
    "version": 3
   },
   "file_extension": ".py",
   "mimetype": "text/x-python",
   "name": "python",
   "nbconvert_exporter": "python",
   "pygments_lexer": "ipython3",
   "version": "3.9.7"
  }
 },
 "nbformat": 4,
 "nbformat_minor": 5
}
